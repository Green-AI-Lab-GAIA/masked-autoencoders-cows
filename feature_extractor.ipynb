{
  "cells": [
    {
      "cell_type": "markdown",
      "metadata": {},
      "source": [
        "# Feature Extractor Code "
      ]
    },
    {
      "cell_type": "code",
      "execution_count": 1,
      "metadata": {
        "id": "Lu-91r-eYm3-"
      },
      "outputs": [
        {
          "name": "stderr",
          "output_type": "stream",
          "text": [
            "2025-03-13 14:45:36.665176: I tensorflow/core/util/port.cc:153] oneDNN custom operations are on. You may see slightly different numerical results due to floating-point round-off errors from different computation orders. To turn them off, set the environment variable `TF_ENABLE_ONEDNN_OPTS=0`.\n",
            "2025-03-13 14:45:36.674664: E external/local_xla/xla/stream_executor/cuda/cuda_fft.cc:477] Unable to register cuFFT factory: Attempting to register factory for plugin cuFFT when one has already been registered\n",
            "WARNING: All log messages before absl::InitializeLog() is called are written to STDERR\n",
            "E0000 00:00:1741887936.687087 3139219 cuda_dnn.cc:8310] Unable to register cuDNN factory: Attempting to register factory for plugin cuDNN when one has already been registered\n",
            "E0000 00:00:1741887936.690455 3139219 cuda_blas.cc:1418] Unable to register cuBLAS factory: Attempting to register factory for plugin cuBLAS when one has already been registered\n",
            "2025-03-13 14:45:36.705438: I tensorflow/core/platform/cpu_feature_guard.cc:210] This TensorFlow binary is optimized to use available CPU instructions in performance-critical operations.\n",
            "To enable the following instructions: AVX2 AVX512F AVX512_VNNI AVX512_BF16 AVX512_FP16 AVX_VNNI AMX_TILE AMX_INT8 AMX_BF16 FMA, in other operations, rebuild TensorFlow with the appropriate compiler flags.\n"
          ]
        }
      ],
      "source": [
        "from tensorflow.keras import layers\n",
        "from tensorflow import keras\n",
        "import tensorflow as tf\n",
        "\n",
        "import matplotlib.pyplot as plt\n",
        "import numpy as np\n",
        "import random\n",
        "import pandas as pd\n",
        "\n",
        "# Setting seeds for reproducibility.\n",
        "SEED = 42\n",
        "keras.utils.set_random_seed(SEED)"
      ]
    },
    {
      "cell_type": "code",
      "execution_count": 2,
      "metadata": {},
      "outputs": [],
      "source": [
        "from mae_code import *"
      ]
    },
    {
      "cell_type": "code",
      "execution_count": 3,
      "metadata": {
        "id": "zv7ySS19YppA"
      },
      "outputs": [],
      "source": [
        "# DATA\n",
        "BUFFER_SIZE = 512\n",
        "BATCH_SIZE = 128\n",
        "AUTO = tf.data.AUTOTUNE\n",
        "\n",
        "# OPTIMIZER\n",
        "LEARNING_RATE = 5e-3\n",
        "WEIGHT_DECAY = 1e-4\n",
        "\n",
        "\n",
        "# PRETRAINING\n",
        "EPOCHS = 100\n"
      ]
    },
    {
      "cell_type": "markdown",
      "metadata": {
        "id": "ePYnQ0UUZPLL"
      },
      "source": [
        "## Load data\n"
      ]
    },
    {
      "cell_type": "code",
      "execution_count": 4,
      "metadata": {
        "colab": {
          "base_uri": "https://localhost:8080/",
          "height": 367
        },
        "id": "ARiHOMdpYpu-",
        "outputId": "79ccf778-0c34-4ecd-d4b5-36ecf179d313"
      },
      "outputs": [
        {
          "name": "stdout",
          "output_type": "stream",
          "text": [
            "Found 70684 files.\n"
          ]
        },
        {
          "name": "stderr",
          "output_type": "stream",
          "text": [
            "W0000 00:00:1741887940.155220 3139219 gpu_device.cc:2344] Cannot dlopen some GPU libraries. Please make sure the missing libraries mentioned above are installed properly if you would like to use GPU. Follow the guide at https://www.tensorflow.org/install/gpu for how to download and setup the required libraries for your platform.\n",
            "Skipping registering GPU devices...\n"
          ]
        }
      ],
      "source": [
        "import os\n",
        "import tensorflow as tf\n",
        "\n",
        "\n",
        "\n",
        "base_dir = 'png_512'\n",
        "\n",
        "# Create a dataset from images in the directory\n",
        "dataset = tf.keras.utils.image_dataset_from_directory(\n",
        "    os.path.join(base_dir),              # Base directory\n",
        "    labels='inferred',                   # Infer labels from directory structure\n",
        "    color_mode=\"grayscale\",\n",
        "    label_mode=None,                     # No labels\n",
        "    image_size=(IMAGE_SIZE, IMAGE_SIZE), # Image size\n",
        "    batch_size=BATCH_SIZE,               # Batch size\n",
        "    shuffle=False,                       # Do not shuffle the data\n",
        "    interpolation='bilinear'\n",
        ")\n",
        "\n",
        "\n"
      ]
    },
    {
      "cell_type": "markdown",
      "metadata": {
        "id": "iFkioZ0RIIu6"
      },
      "source": [
        "## Functions\n",
        "\n",
        "These functions are identical to those used in the pre-training code.\n"
      ]
    },
    {
      "cell_type": "code",
      "execution_count": 5,
      "metadata": {
        "id": "S_0p1EalYp0f"
      },
      "outputs": [],
      "source": [
        "def get_train_augmentation_model():\n",
        "    model = keras.Sequential(\n",
        "        [\n",
        "            layers.Rescaling(1 / 255.0),\n",
        "#             layers.RandomFlip(\"horizontal\"),\n",
        "#             layers.RandomRotation(factor=0.15),  # Rotação aleatória entre -30 e 30 graus (fator = 0.15 para 15 graus)\n",
        "         layers.Resizing(IMAGE_SIZE, IMAGE_SIZE)\n",
        "        ],\n",
        "        name=\"train_data_augmentation\",\n",
        "    )\n",
        "    return model\n",
        "\n",
        "\n",
        "def get_test_augmentation_model():\n",
        "    model = keras.Sequential(\n",
        "        [layers.Rescaling(1 / 255.0),\n",
        "         layers.Resizing(IMAGE_SIZE, IMAGE_SIZE),],\n",
        "        name=\"test_data_augmentation\",\n",
        "    )\n",
        "    return model"
      ]
    },
    {
      "cell_type": "code",
      "execution_count": 6,
      "metadata": {
        "id": "2nbBH_3_Z69G"
      },
      "outputs": [
        {
          "data": {
            "image/png": "[encoded data removed]",
            "text/plain": [
              "<Figure size 640x480 with 1 Axes>"
            ]
          },
          "metadata": {},
          "output_type": "display_data"
        }
      ],
      "source": [
        "# Some code is taken from:\n",
        "# https://www.kaggle.com/ashusma/training-rfcx-tensorflow-tpu-effnet-b2.\n",
        "\n",
        "\n",
        "class WarmUpCosine(keras.optimizers.schedules.LearningRateSchedule):\n",
        "    def __init__(\n",
        "        self, learning_rate_base, total_steps, warmup_learning_rate, warmup_steps\n",
        "    ):\n",
        "        super().__init__()\n",
        "\n",
        "        self.learning_rate_base = learning_rate_base\n",
        "        self.total_steps = total_steps\n",
        "        self.warmup_learning_rate = warmup_learning_rate\n",
        "        self.warmup_steps = warmup_steps\n",
        "        self.pi = tf.constant(np.pi)\n",
        "\n",
        "    def __call__(self, step):\n",
        "        if self.total_steps < self.warmup_steps:\n",
        "            raise ValueError(\"Total_steps must be larger or equal to warmup_steps.\")\n",
        "\n",
        "        cos_annealed_lr = tf.cos(\n",
        "            self.pi\n",
        "            * (tf.cast(step, tf.float32) - self.warmup_steps)\n",
        "            / float(self.total_steps - self.warmup_steps)\n",
        "        )\n",
        "        learning_rate = 0.5 * self.learning_rate_base * (1 + cos_annealed_lr)\n",
        "\n",
        "        if self.warmup_steps > 0:\n",
        "            if self.learning_rate_base < self.warmup_learning_rate:\n",
        "                raise ValueError(\n",
        "                    \"Learning_rate_base must be larger or equal to \"\n",
        "                    \"warmup_learning_rate.\"\n",
        "                )\n",
        "            slope = (\n",
        "                self.learning_rate_base - self.warmup_learning_rate\n",
        "            ) / self.warmup_steps\n",
        "            warmup_rate = slope * tf.cast(step, tf.float32) + self.warmup_learning_rate\n",
        "            learning_rate = tf.where(\n",
        "                step < self.warmup_steps, warmup_rate, learning_rate\n",
        "            )\n",
        "        return tf.where(\n",
        "            step > self.total_steps, 0.0, learning_rate, name=\"learning_rate\"\n",
        "        )\n",
        "\n",
        "\n",
        "total_steps = int((len(dataset)) * EPOCHS)\n",
        "warmup_epoch_percentage = 0.15\n",
        "warmup_steps = int(total_steps * warmup_epoch_percentage)\n",
        "scheduled_lrs = WarmUpCosine(\n",
        "    learning_rate_base=LEARNING_RATE,\n",
        "    total_steps=total_steps,\n",
        "    warmup_learning_rate=0.0,\n",
        "    warmup_steps=warmup_steps,\n",
        ")\n",
        "\n",
        "lrs = [scheduled_lrs(step) for step in range(total_steps)]\n",
        "plt.plot(lrs)\n",
        "plt.xlabel(\"Step\", fontsize=14)\n",
        "plt.ylabel(\"LR\", fontsize=14)\n",
        "plt.show()\n"
      ]
    },
    {
      "cell_type": "markdown",
      "metadata": {},
      "source": [
        "## Load Weights from Pre-trained Models"
      ]
    },
    {
      "cell_type": "code",
      "execution_count": 7,
      "metadata": {
        "id": "b-wuPytAfd_C"
      },
      "outputs": [],
      "source": [
        "# instantiate the models\n",
        "\n",
        "train_augmentation_model = get_train_augmentation_model()\n",
        "test_augmentation_model = get_test_augmentation_model()\n",
        "patch_layer = Patches()\n",
        "patch_encoder = PatchEncoder()\n",
        "encoder = create_encoder()\n",
        "decoder = create_decoder()\n",
        "\n",
        "model = MaskedAutoencoder(\n",
        "    train_augmentation_model=train_augmentation_model,\n",
        "    test_augmentation_model=test_augmentation_model,\n",
        "    patch_layer=patch_layer,\n",
        "    patch_encoder=patch_encoder,\n",
        "    encoder=encoder,\n",
        "    decoder=decoder,\n",
        ")\n",
        "\n",
        "optimizer = tf.optimizers.AdamW(learning_rate=scheduled_lrs, weight_decay=WEIGHT_DECAY)\n",
        "\n",
        "#Compile and pretrain the model.\n",
        "model.compile( optimizer=optimizer, loss=keras.losses.MeanSquaredError(), metrics=[\"mae\"])"
      ]
    },
    {
      "cell_type": "code",
      "execution_count": null,
      "metadata": {
        "id": "RhIWhnlCj4yZ"
      },
      "outputs": [
        {
          "name": "stdout",
          "output_type": "stream",
          "text": [
            "Checkpoint restaurado com sucesso!\n"
          ]
        }
      ],
      "source": [
        "\n",
        "check_point = \"pre-trained-models/mp75/\"\n",
        "\n",
        "# Criando o checkpoint para restaurar\n",
        "checkpoint = tf.train.Checkpoint(\n",
        "    patch_encoder=model.patch_encoder,\n",
        "    encoder=model.encoder,\n",
        "    decoder=model.decoder\n",
        ")\n",
        "\n",
        "# Defina o diretório onde o checkpoint foi salvo\n",
        "checkpoint_directory = check_point + 'mae_model/'\n",
        "\n",
        "# Verifique se o checkpoint existe e faça a restauração\n",
        "latest_checkpoint = tf.train.latest_checkpoint(checkpoint_directory)\n",
        "\n",
        "if latest_checkpoint:\n",
        "    checkpoint.restore(latest_checkpoint).expect_partial()\n",
        "    print(\"Checkpoint restored successfully!\")\n",
        "else:\n",
        "    print(\"No checkpoint found.\")"
      ]
    },
    {
      "cell_type": "markdown",
      "metadata": {},
      "source": [
        "## Visualizing the Reconstruction"
      ]
    },
    {
      "cell_type": "code",
      "execution_count": 9,
      "metadata": {},
      "outputs": [],
      "source": [
        "images = next(iter(dataset))\n",
        "\n",
        "augmented_images = test_augmentation_model(images)"
      ]
    },
    {
      "cell_type": "code",
      "execution_count": 10,
      "metadata": {},
      "outputs": [],
      "source": [
        "\n",
        "import matplotlib.pyplot as plt\n",
        "\n",
        "def visualize_results(model, augmented_images):\n",
        "\n",
        "    # Patch the augmented images.\n",
        "    patches = model.patch_layer(augmented_images)\n",
        "\n",
        "    # Encode the patches.\n",
        "    (\n",
        "        unmasked_embeddings,\n",
        "        masked_embeddings,\n",
        "        unmasked_positions,\n",
        "        mask_indices,\n",
        "        unmask_indices,\n",
        "    ) = model.patch_encoder(patches)\n",
        "\n",
        "    # Pass the unmasked patches to the encoder.\n",
        "    encoder_outputs = model.encoder(unmasked_embeddings)\n",
        "\n",
        "    # Create the decoder inputs.\n",
        "    encoder_outputs = encoder_outputs + unmasked_positions\n",
        "    decoder_inputs = tf.concat([encoder_outputs, masked_embeddings], axis=1)\n",
        "    decoder_outputs = model.decoder(decoder_inputs)\n",
        "\n",
        "    # Show a masked patch image.\n",
        "    masked_patches = model.patch_encoder.generate_masked_images(\n",
        "        patches[2:6], unmask_indices[2:6], color = 0.3\n",
        ")\n",
        "\n",
        "    masked_images = []\n",
        "    for masked_patch in masked_patches:\n",
        "        # Apply the reconstruction function to the masked patch\n",
        "        masked_image = model.patch_layer.reconstruct_from_patch(masked_patch)\n",
        "        masked_images.append(masked_image)\n",
        "\n",
        "    original_image = augmented_images[2:6]\n",
        "    reconstructed_image = decoder_outputs[2:6]\n",
        "\n",
        "    # Minimalistic plot settings\n",
        "    fig, ax = plt.subplots(4, 3, figsize=(7.5, 10))\n",
        "    plt.subplots_adjust(wspace=0.01, hspace=0.01)\n",
        "\n",
        "    for i in range(4):\n",
        "        # Original\n",
        "        ax[i, 0].imshow(original_image[i], cmap='gray')\n",
        "        ax[i, 0].axis('off')\n",
        "\n",
        "        # Masked\n",
        "        ax[i, 1].imshow(masked_images[i], cmap='gray')\n",
        "        ax[i, 1].axis('off')\n",
        "\n",
        "        # Reconstruída\n",
        "        ax[i, 2].imshow(reconstructed_image[i], cmap='gray')\n",
        "        ax[i, 2].axis('off')\n",
        "\n",
        "        if i == 0:\n",
        "          ax[i, 0].set_title(\"Original\")\n",
        "          ax[i, 1].set_title(\"Masked\")\n",
        "          ax[i, 2].set_title(\"Reconstructed\")\n",
        "\n",
        "    plt.show()"
      ]
    },
    {
      "cell_type": "code",
      "execution_count": 11,
      "metadata": {},
      "outputs": [
        {
          "data": {
            "image/png": "[encoded data removed]",
            "text/plain": [
              "<Figure size 750x1000 with 12 Axes>"
            ]
          },
          "metadata": {},
          "output_type": "display_data"
        }
      ],
      "source": [
        "\n",
        "# augmented_images = test_augmentation_model(images)\n",
        "visualize_results(model, augmented_images)"
      ]
    },
    {
      "cell_type": "markdown",
      "metadata": {},
      "source": [
        "## Extracting Latent Variables"
      ]
    },
    {
      "cell_type": "code",
      "execution_count": 15,
      "metadata": {
        "id": "A46UMn2VmQNx"
      },
      "outputs": [
        {
          "name": "stderr",
          "output_type": "stream",
          "text": [
            "100%|██████████| 553/553 [00:45<00:00, 13.04it/s]2025-03-13 15:09:08.461256: I tensorflow/core/framework/local_rendezvous.cc:405] Local rendezvous is aborting with status: OUT_OF_RANGE: End of sequence\n",
            "100%|██████████| 553/553 [00:45<00:00, 12.22it/s]\n"
          ]
        }
      ],
      "source": [
        "import tensorflow as tf\n",
        "from tqdm import tqdm\n",
        "\n",
        "# Assuming you have a train_dataset containing multiple images\n",
        "\n",
        "# Initialize an empty list to store the results for each image\n",
        "processed_images = []\n",
        "\n",
        "# Use tqdm to create a progress bar for the loop\n",
        "for images in tqdm(dataset, total=len(dataset)):\n",
        "    # Perform the same operations as in your code snippet\n",
        "\n",
        "    # Apply augmentation to the image\n",
        "    augmented_images = test_augmentation_model(images)\n",
        "\n",
        "    # Patch the augmented images\n",
        "    patches = patch_layer(augmented_images)\n",
        "\n",
        "    # Encode the patches\n",
        "    (\n",
        "        unmasked_embeddings,\n",
        "        masked_embeddings,\n",
        "        unmasked_positions,\n",
        "        mask_indices,\n",
        "        unmask_indices,\n",
        "    ) = model.patch_encoder(patches)\n",
        "\n",
        "    # Pass the unmasked patches to the encoder\n",
        "    encoder_outputs = model.encoder(unmasked_embeddings)\n",
        "\n",
        "    # Append the processed image to the list\n",
        "    processed_images.append(encoder_outputs)\n",
        "\n",
        "# processed_images now contains the processed data for the entire dataset, and you will see a progress bar as the loop iterates.\n"
      ]
    },
    {
      "cell_type": "markdown",
      "metadata": {},
      "source": [
        "## Reshaping"
      ]
    },
    {
      "cell_type": "code",
      "execution_count": null,
      "metadata": {
        "id": "HN5ec9fcqOFj"
      },
      "outputs": [
        {
          "name": "stderr",
          "output_type": "stream",
          "text": [
            "Reshaping:   0%|          | 0/553 [00:00<?, ?it/s]\n"
          ]
        },
        {
          "ename": "InvalidArgumentError",
          "evalue": "{{function_node __wrapped__Reshape_device_/job:localhost/replica:0/task:0/device:CPU:0}} Input to reshape is a tensor with 32768 values, but the requested shape has 98304 [Op:Reshape]",
          "output_type": "error",
          "traceback": [
            "\u001b[0;31m---------------------------------------------------------------------------\u001b[0m",
            "\u001b[0;31mInvalidArgumentError\u001b[0m                      Traceback (most recent call last)",
            "Cell \u001b[0;32mIn[14], line 6\u001b[0m\n\u001b[1;32m      4\u001b[0m \u001b[38;5;66;03m# Use tqdm to create a progress bar for the loop\u001b[39;00m\n\u001b[1;32m      5\u001b[0m \u001b[38;5;28;01mfor\u001b[39;00m output \u001b[38;5;129;01min\u001b[39;00m tqdm(processed_images, total\u001b[38;5;241m=\u001b[39m\u001b[38;5;28mlen\u001b[39m(processed_images), desc\u001b[38;5;241m=\u001b[39m\u001b[38;5;124m\"\u001b[39m\u001b[38;5;124mReshaping\u001b[39m\u001b[38;5;124m\"\u001b[39m):\n\u001b[0;32m----> 6\u001b[0m     reshaped_tensor \u001b[38;5;241m=\u001b[39m \u001b[43mtf\u001b[49m\u001b[38;5;241;43m.\u001b[39;49m\u001b[43mreshape\u001b[49m\u001b[43m(\u001b[49m\u001b[43moutput\u001b[49m\u001b[43m,\u001b[49m\u001b[43m \u001b[49m\u001b[43m[\u001b[49m\u001b[43moutput\u001b[49m\u001b[38;5;241;43m.\u001b[39;49m\u001b[43mshape\u001b[49m\u001b[43m[\u001b[49m\u001b[38;5;241;43m0\u001b[39;49m\u001b[43m]\u001b[49m\u001b[43m,\u001b[49m\u001b[43m \u001b[49m\u001b[38;5;241;43m48\u001b[39;49m\u001b[38;5;241;43m*\u001b[39;49m\u001b[43m \u001b[49m\u001b[38;5;241;43m16\u001b[39;49m\u001b[43m]\u001b[49m\u001b[43m)\u001b[49m\n\u001b[1;32m      7\u001b[0m     reshaped_outputs\u001b[38;5;241m.\u001b[39mappend(reshaped_tensor)\n",
            "File \u001b[0;32m~/.pyenv/versions/mae-cows/lib/python3.10/site-packages/tensorflow/python/ops/weak_tensor_ops.py:88\u001b[0m, in \u001b[0;36mweak_tensor_unary_op_wrapper.<locals>.wrapper\u001b[0;34m(*args, **kwargs)\u001b[0m\n\u001b[1;32m     86\u001b[0m \u001b[38;5;28;01mdef\u001b[39;00m\u001b[38;5;250m \u001b[39m\u001b[38;5;21mwrapper\u001b[39m(\u001b[38;5;241m*\u001b[39margs, \u001b[38;5;241m*\u001b[39m\u001b[38;5;241m*\u001b[39mkwargs):\n\u001b[1;32m     87\u001b[0m   \u001b[38;5;28;01mif\u001b[39;00m \u001b[38;5;129;01mnot\u001b[39;00m ops\u001b[38;5;241m.\u001b[39mis_auto_dtype_conversion_enabled():\n\u001b[0;32m---> 88\u001b[0m     \u001b[38;5;28;01mreturn\u001b[39;00m \u001b[43mop\u001b[49m\u001b[43m(\u001b[49m\u001b[38;5;241;43m*\u001b[39;49m\u001b[43margs\u001b[49m\u001b[43m,\u001b[49m\u001b[43m \u001b[49m\u001b[38;5;241;43m*\u001b[39;49m\u001b[38;5;241;43m*\u001b[39;49m\u001b[43mkwargs\u001b[49m\u001b[43m)\u001b[49m\n\u001b[1;32m     89\u001b[0m   bound_arguments \u001b[38;5;241m=\u001b[39m signature\u001b[38;5;241m.\u001b[39mbind(\u001b[38;5;241m*\u001b[39margs, \u001b[38;5;241m*\u001b[39m\u001b[38;5;241m*\u001b[39mkwargs)\n\u001b[1;32m     90\u001b[0m   bound_arguments\u001b[38;5;241m.\u001b[39mapply_defaults()\n",
            "File \u001b[0;32m~/.pyenv/versions/mae-cows/lib/python3.10/site-packages/tensorflow/python/util/traceback_utils.py:153\u001b[0m, in \u001b[0;36mfilter_traceback.<locals>.error_handler\u001b[0;34m(*args, **kwargs)\u001b[0m\n\u001b[1;32m    151\u001b[0m \u001b[38;5;28;01mexcept\u001b[39;00m \u001b[38;5;167;01mException\u001b[39;00m \u001b[38;5;28;01mas\u001b[39;00m e:\n\u001b[1;32m    152\u001b[0m   filtered_tb \u001b[38;5;241m=\u001b[39m _process_traceback_frames(e\u001b[38;5;241m.\u001b[39m__traceback__)\n\u001b[0;32m--> 153\u001b[0m   \u001b[38;5;28;01mraise\u001b[39;00m e\u001b[38;5;241m.\u001b[39mwith_traceback(filtered_tb) \u001b[38;5;28;01mfrom\u001b[39;00m\u001b[38;5;250m \u001b[39m\u001b[38;5;28;01mNone\u001b[39;00m\n\u001b[1;32m    154\u001b[0m \u001b[38;5;28;01mfinally\u001b[39;00m:\n\u001b[1;32m    155\u001b[0m   \u001b[38;5;28;01mdel\u001b[39;00m filtered_tb\n",
            "File \u001b[0;32m~/.pyenv/versions/mae-cows/lib/python3.10/site-packages/tensorflow/python/eager/execute.py:53\u001b[0m, in \u001b[0;36mquick_execute\u001b[0;34m(op_name, num_outputs, inputs, attrs, ctx, name)\u001b[0m\n\u001b[1;32m     51\u001b[0m \u001b[38;5;28;01mtry\u001b[39;00m:\n\u001b[1;32m     52\u001b[0m   ctx\u001b[38;5;241m.\u001b[39mensure_initialized()\n\u001b[0;32m---> 53\u001b[0m   tensors \u001b[38;5;241m=\u001b[39m pywrap_tfe\u001b[38;5;241m.\u001b[39mTFE_Py_Execute(ctx\u001b[38;5;241m.\u001b[39m_handle, device_name, op_name,\n\u001b[1;32m     54\u001b[0m                                       inputs, attrs, num_outputs)\n\u001b[1;32m     55\u001b[0m \u001b[38;5;28;01mexcept\u001b[39;00m core\u001b[38;5;241m.\u001b[39m_NotOkStatusException \u001b[38;5;28;01mas\u001b[39;00m e:\n\u001b[1;32m     56\u001b[0m   \u001b[38;5;28;01mif\u001b[39;00m name \u001b[38;5;129;01mis\u001b[39;00m \u001b[38;5;129;01mnot\u001b[39;00m \u001b[38;5;28;01mNone\u001b[39;00m:\n",
            "\u001b[0;31mInvalidArgumentError\u001b[0m: {{function_node __wrapped__Reshape_device_/job:localhost/replica:0/task:0/device:CPU:0}} Input to reshape is a tensor with 32768 values, but the requested shape has 98304 [Op:Reshape]"
          ]
        }
      ],
      "source": [
        "# Initialize a new list to store the reshaped tensors\n",
        "reshaped_outputs = []\n",
        "\n",
        "# Use tqdm to create a progress bar for the loop\n",
        "for output in tqdm(processed_images, total=len(processed_images), desc=\"Reshaping\"):\n",
        "    reshaped_tensor = tf.reshape(output, [output.shape[0], 32* 16])\n",
        "    reshaped_outputs.append(reshaped_tensor)"
      ]
    },
    {
      "cell_type": "code",
      "execution_count": null,
      "metadata": {
        "id": "br1DW9FOqbn3"
      },
      "outputs": [],
      "source": [
        "\n",
        "\n",
        "# Assuming reshaped_outputs is a list of shape (553, 128, 768)\n",
        "\n",
        "# Convert the list to a NumPy array\n",
        "reshaped_array = np.array(reshaped_outputs[:-1])\n",
        "\n",
        "# Reshape the array to have shape (553*128, 768)\n",
        "reshaped_array = reshaped_array.reshape(-1, 512)\n",
        "\n",
        "# Create a DataFrame from the reshaped array\n",
        "df = pd.DataFrame(reshaped_array)\n"
      ]
    },
    {
      "cell_type": "code",
      "execution_count": null,
      "metadata": {
        "id": "rI7SY_iEjCTk"
      },
      "outputs": [
        {
          "ename": "InvalidArgumentError",
          "evalue": "{{function_node __wrapped__AddV2_device_/job:localhost/replica:0/task:0/device:CPU:0}} Incompatible shapes: [1,32,16] vs. [28,16,16] [Op:AddV2] name: ",
          "output_type": "error",
          "traceback": [
            "\u001b[0;31m---------------------------------------------------------------------------\u001b[0m",
            "\u001b[0;31mInvalidArgumentError\u001b[0m                      Traceback (most recent call last)",
            "Cell \u001b[0;32mIn[22], line 7\u001b[0m\n\u001b[1;32m      4\u001b[0m a \u001b[38;5;241m=\u001b[39m tf\u001b[38;5;241m.\u001b[39mconvert_to_tensor(a)\n\u001b[1;32m      6\u001b[0m \u001b[38;5;66;03m# # Create the decoder inputs.\u001b[39;00m\n\u001b[0;32m----> 7\u001b[0m encoder_outputs \u001b[38;5;241m=\u001b[39m \u001b[43ma\u001b[49m\u001b[43m \u001b[49m\u001b[38;5;241;43m+\u001b[39;49m\u001b[43m \u001b[49m\u001b[43munmasked_positions\u001b[49m\n\u001b[1;32m      8\u001b[0m decoder_inputs \u001b[38;5;241m=\u001b[39m tf\u001b[38;5;241m.\u001b[39mconcat([encoder_outputs, masked_embeddings], axis\u001b[38;5;241m=\u001b[39m\u001b[38;5;241m1\u001b[39m)\n\u001b[1;32m      9\u001b[0m decoder_outputs \u001b[38;5;241m=\u001b[39m model\u001b[38;5;241m.\u001b[39mdecoder(decoder_inputs)\n",
            "File \u001b[0;32m~/.pyenv/versions/mae-cows/lib/python3.10/site-packages/tensorflow/python/util/traceback_utils.py:153\u001b[0m, in \u001b[0;36mfilter_traceback.<locals>.error_handler\u001b[0;34m(*args, **kwargs)\u001b[0m\n\u001b[1;32m    151\u001b[0m \u001b[38;5;28;01mexcept\u001b[39;00m \u001b[38;5;167;01mException\u001b[39;00m \u001b[38;5;28;01mas\u001b[39;00m e:\n\u001b[1;32m    152\u001b[0m   filtered_tb \u001b[38;5;241m=\u001b[39m _process_traceback_frames(e\u001b[38;5;241m.\u001b[39m__traceback__)\n\u001b[0;32m--> 153\u001b[0m   \u001b[38;5;28;01mraise\u001b[39;00m e\u001b[38;5;241m.\u001b[39mwith_traceback(filtered_tb) \u001b[38;5;28;01mfrom\u001b[39;00m\u001b[38;5;250m \u001b[39m\u001b[38;5;28;01mNone\u001b[39;00m\n\u001b[1;32m    154\u001b[0m \u001b[38;5;28;01mfinally\u001b[39;00m:\n\u001b[1;32m    155\u001b[0m   \u001b[38;5;28;01mdel\u001b[39;00m filtered_tb\n",
            "File \u001b[0;32m~/.pyenv/versions/mae-cows/lib/python3.10/site-packages/tensorflow/python/framework/ops.py:6002\u001b[0m, in \u001b[0;36mraise_from_not_ok_status\u001b[0;34m(e, name)\u001b[0m\n\u001b[1;32m   6000\u001b[0m \u001b[38;5;28;01mdef\u001b[39;00m\u001b[38;5;250m \u001b[39m\u001b[38;5;21mraise_from_not_ok_status\u001b[39m(e, name) \u001b[38;5;241m-\u001b[39m\u001b[38;5;241m>\u001b[39m NoReturn:\n\u001b[1;32m   6001\u001b[0m   e\u001b[38;5;241m.\u001b[39mmessage \u001b[38;5;241m+\u001b[39m\u001b[38;5;241m=\u001b[39m (\u001b[38;5;124m\"\u001b[39m\u001b[38;5;124m name: \u001b[39m\u001b[38;5;124m\"\u001b[39m \u001b[38;5;241m+\u001b[39m \u001b[38;5;28mstr\u001b[39m(name \u001b[38;5;28;01mif\u001b[39;00m name \u001b[38;5;129;01mis\u001b[39;00m \u001b[38;5;129;01mnot\u001b[39;00m \u001b[38;5;28;01mNone\u001b[39;00m \u001b[38;5;28;01melse\u001b[39;00m \u001b[38;5;124m\"\u001b[39m\u001b[38;5;124m\"\u001b[39m))\n\u001b[0;32m-> 6002\u001b[0m   \u001b[38;5;28;01mraise\u001b[39;00m core\u001b[38;5;241m.\u001b[39m_status_to_exception(e) \u001b[38;5;28;01mfrom\u001b[39;00m\u001b[38;5;250m \u001b[39m\u001b[38;5;28;01mNone\u001b[39;00m\n",
            "\u001b[0;31mInvalidArgumentError\u001b[0m: {{function_node __wrapped__AddV2_device_/job:localhost/replica:0/task:0/device:CPU:0}} Incompatible shapes: [1,32,16] vs. [28,16,16] [Op:AddV2] name: "
          ]
        }
      ],
      "source": [
        "a = df.iloc[23]\n",
        "a = np.array(a)\n",
        "a = a.reshape(1,32,16)\n",
        "a = tf.convert_to_tensor(a)\n",
        "\n",
        "# # Create the decoder inputs.\n",
        "encoder_outputs = a + unmasked_positions\n",
        "decoder_inputs = tf.concat([encoder_outputs, masked_embeddings], axis=1)\n",
        "decoder_outputs = model.decoder(decoder_inputs)\n",
        "\n",
        "\n",
        "original_image = augmented_images[0]\n",
        "reconstructed_image = decoder_outputs[0]\n",
        "\n",
        "fig, ax = plt.subplots(nrows=1, ncols=2, figsize=(10, 5))\n",
        "ax[0].imshow(original_image, cmap = 'gray')\n",
        "ax[0].set_title(\"Original:\")\n",
        "\n",
        "ax[1].imshow(reconstructed_image, cmap = 'gray')\n",
        "ax[1].set_title(\"Resonstructed:\")\n",
        "\n",
        "plt.show()\n",
        "plt.close()"
      ]
    },
    {
      "cell_type": "code",
      "execution_count": null,
      "metadata": {
        "id": "2VHor_9Rt2bl"
      },
      "outputs": [
        {
          "ename": "AttributeError",
          "evalue": "'DataFrame' object has no attribute 'append'",
          "output_type": "error",
          "traceback": [
            "\u001b[0;31m---------------------------------------------------------------------------\u001b[0m",
            "\u001b[0;31mAttributeError\u001b[0m                            Traceback (most recent call last)",
            "\u001b[0;32m/tmp/ipykernel_2967285/3450503052.py\u001b[0m in \u001b[0;36m?\u001b[0;34m()\u001b[0m\n\u001b[1;32m      3\u001b[0m \u001b[0mlast_batch\u001b[0m \u001b[0;34m=\u001b[0m \u001b[0mlast_batch\u001b[0m\u001b[0;34m[\u001b[0m\u001b[0;34m:\u001b[0m\u001b[0;36m28\u001b[0m\u001b[0;34m]\u001b[0m  \u001b[0;31m# Keep only the first 28 elements\u001b[0m\u001b[0;34m\u001b[0m\u001b[0;34m\u001b[0m\u001b[0m\n\u001b[1;32m      4\u001b[0m \u001b[0mlast_batch\u001b[0m \u001b[0;34m=\u001b[0m \u001b[0mnp\u001b[0m\u001b[0;34m.\u001b[0m\u001b[0marray\u001b[0m\u001b[0;34m(\u001b[0m\u001b[0mlast_batch\u001b[0m\u001b[0;34m)\u001b[0m\u001b[0;34m\u001b[0m\u001b[0;34m\u001b[0m\u001b[0m\n\u001b[1;32m      5\u001b[0m \u001b[0;34m\u001b[0m\u001b[0m\n\u001b[1;32m      6\u001b[0m \u001b[0;31m# Append the last batch to the DataFrame\u001b[0m\u001b[0;34m\u001b[0m\u001b[0;34m\u001b[0m\u001b[0m\n\u001b[0;32m----> 7\u001b[0;31m \u001b[0mdf\u001b[0m \u001b[0;34m=\u001b[0m \u001b[0mdf\u001b[0m\u001b[0;34m.\u001b[0m\u001b[0mappend\u001b[0m\u001b[0;34m(\u001b[0m\u001b[0mpd\u001b[0m\u001b[0;34m.\u001b[0m\u001b[0mDataFrame\u001b[0m\u001b[0;34m(\u001b[0m\u001b[0mlast_batch\u001b[0m\u001b[0;34m)\u001b[0m\u001b[0;34m,\u001b[0m \u001b[0mignore_index\u001b[0m\u001b[0;34m=\u001b[0m\u001b[0;32mTrue\u001b[0m\u001b[0;34m)\u001b[0m\u001b[0;34m\u001b[0m\u001b[0;34m\u001b[0m\u001b[0m\n\u001b[0m",
            "\u001b[0;32m~/.pyenv/versions/mae-cows/lib/python3.10/site-packages/pandas/core/generic.py\u001b[0m in \u001b[0;36m?\u001b[0;34m(self, name)\u001b[0m\n\u001b[1;32m   6295\u001b[0m             \u001b[0;32mand\u001b[0m \u001b[0mname\u001b[0m \u001b[0;32mnot\u001b[0m \u001b[0;32min\u001b[0m \u001b[0mself\u001b[0m\u001b[0;34m.\u001b[0m\u001b[0m_accessors\u001b[0m\u001b[0;34m\u001b[0m\u001b[0;34m\u001b[0m\u001b[0m\n\u001b[1;32m   6296\u001b[0m             \u001b[0;32mand\u001b[0m \u001b[0mself\u001b[0m\u001b[0;34m.\u001b[0m\u001b[0m_info_axis\u001b[0m\u001b[0;34m.\u001b[0m\u001b[0m_can_hold_identifiers_and_holds_name\u001b[0m\u001b[0;34m(\u001b[0m\u001b[0mname\u001b[0m\u001b[0;34m)\u001b[0m\u001b[0;34m\u001b[0m\u001b[0;34m\u001b[0m\u001b[0m\n\u001b[1;32m   6297\u001b[0m         ):\n\u001b[1;32m   6298\u001b[0m             \u001b[0;32mreturn\u001b[0m \u001b[0mself\u001b[0m\u001b[0;34m[\u001b[0m\u001b[0mname\u001b[0m\u001b[0;34m]\u001b[0m\u001b[0;34m\u001b[0m\u001b[0;34m\u001b[0m\u001b[0m\n\u001b[0;32m-> 6299\u001b[0;31m         \u001b[0;32mreturn\u001b[0m \u001b[0mobject\u001b[0m\u001b[0;34m.\u001b[0m\u001b[0m__getattribute__\u001b[0m\u001b[0;34m(\u001b[0m\u001b[0mself\u001b[0m\u001b[0;34m,\u001b[0m \u001b[0mname\u001b[0m\u001b[0;34m)\u001b[0m\u001b[0;34m\u001b[0m\u001b[0;34m\u001b[0m\u001b[0m\n\u001b[0m",
            "\u001b[0;31mAttributeError\u001b[0m: 'DataFrame' object has no attribute 'append'"
          ]
        }
      ],
      "source": [
        "# Append the last batch with size 28\n",
        "last_batch = reshaped_outputs[-1]  # Assuming the last element is the last batch\n",
        "last_batch = last_batch[:28]  # Keep only the first 28 elements\n",
        "last_batch = np.array(last_batch)\n",
        "\n",
        "# Append the last batch to the DataFrame\n",
        "df = df.append(pd.DataFrame(last_batch), ignore_index=True)"
      ]
    },
    {
      "cell_type": "code",
      "execution_count": null,
      "metadata": {
        "id": "3oLA4GykuTGO"
      },
      "outputs": [
        {
          "data": {
            "text/html": [
              "<div>\n",
              "<style scoped>\n",
              "    .dataframe tbody tr th:only-of-type {\n",
              "        vertical-align: middle;\n",
              "    }\n",
              "\n",
              "    .dataframe tbody tr th {\n",
              "        vertical-align: top;\n",
              "    }\n",
              "\n",
              "    .dataframe thead th {\n",
              "        text-align: right;\n",
              "    }\n",
              "</style>\n",
              "<table border=\"1\" class=\"dataframe\">\n",
              "  <thead>\n",
              "    <tr style=\"text-align: right;\">\n",
              "      <th></th>\n",
              "      <th>0</th>\n",
              "      <th>1</th>\n",
              "      <th>2</th>\n",
              "      <th>3</th>\n",
              "      <th>4</th>\n",
              "      <th>5</th>\n",
              "      <th>6</th>\n",
              "      <th>7</th>\n",
              "      <th>8</th>\n",
              "      <th>9</th>\n",
              "      <th>...</th>\n",
              "      <th>502</th>\n",
              "      <th>503</th>\n",
              "      <th>504</th>\n",
              "      <th>505</th>\n",
              "      <th>506</th>\n",
              "      <th>507</th>\n",
              "      <th>508</th>\n",
              "      <th>509</th>\n",
              "      <th>510</th>\n",
              "      <th>511</th>\n",
              "    </tr>\n",
              "  </thead>\n",
              "  <tbody>\n",
              "    <tr>\n",
              "      <th>0</th>\n",
              "      <td>2.919363</td>\n",
              "      <td>-1.669769</td>\n",
              "      <td>0.692077</td>\n",
              "      <td>0.830076</td>\n",
              "      <td>-1.659853</td>\n",
              "      <td>0.111276</td>\n",
              "      <td>-0.237923</td>\n",
              "      <td>-2.141848</td>\n",
              "      <td>-0.442302</td>\n",
              "      <td>-0.342038</td>\n",
              "      <td>...</td>\n",
              "      <td>0.249392</td>\n",
              "      <td>-1.605653</td>\n",
              "      <td>-1.078064</td>\n",
              "      <td>-1.610655</td>\n",
              "      <td>-1.718846</td>\n",
              "      <td>0.421101</td>\n",
              "      <td>-2.694560</td>\n",
              "      <td>1.265672</td>\n",
              "      <td>1.081484</td>\n",
              "      <td>2.185368</td>\n",
              "    </tr>\n",
              "    <tr>\n",
              "      <th>1</th>\n",
              "      <td>0.888674</td>\n",
              "      <td>-1.636093</td>\n",
              "      <td>-3.402671</td>\n",
              "      <td>1.935414</td>\n",
              "      <td>-0.229169</td>\n",
              "      <td>2.447495</td>\n",
              "      <td>0.213846</td>\n",
              "      <td>-2.252254</td>\n",
              "      <td>-1.492656</td>\n",
              "      <td>3.091881</td>\n",
              "      <td>...</td>\n",
              "      <td>-0.241138</td>\n",
              "      <td>-1.501706</td>\n",
              "      <td>-0.952623</td>\n",
              "      <td>-0.607781</td>\n",
              "      <td>-0.040614</td>\n",
              "      <td>-0.769011</td>\n",
              "      <td>-2.778710</td>\n",
              "      <td>3.116666</td>\n",
              "      <td>0.341036</td>\n",
              "      <td>1.264293</td>\n",
              "    </tr>\n",
              "    <tr>\n",
              "      <th>2</th>\n",
              "      <td>3.891949</td>\n",
              "      <td>-3.220488</td>\n",
              "      <td>-1.118621</td>\n",
              "      <td>1.380225</td>\n",
              "      <td>1.179852</td>\n",
              "      <td>1.601483</td>\n",
              "      <td>0.364860</td>\n",
              "      <td>-3.990330</td>\n",
              "      <td>-1.535794</td>\n",
              "      <td>-1.854613</td>\n",
              "      <td>...</td>\n",
              "      <td>0.125863</td>\n",
              "      <td>-2.847452</td>\n",
              "      <td>-0.789337</td>\n",
              "      <td>-0.925192</td>\n",
              "      <td>0.343257</td>\n",
              "      <td>-0.186160</td>\n",
              "      <td>-3.352988</td>\n",
              "      <td>0.855913</td>\n",
              "      <td>-0.118125</td>\n",
              "      <td>-0.138036</td>\n",
              "    </tr>\n",
              "    <tr>\n",
              "      <th>3</th>\n",
              "      <td>3.446969</td>\n",
              "      <td>-0.064171</td>\n",
              "      <td>-2.262740</td>\n",
              "      <td>0.345461</td>\n",
              "      <td>2.401844</td>\n",
              "      <td>0.146445</td>\n",
              "      <td>1.400088</td>\n",
              "      <td>-2.909817</td>\n",
              "      <td>-2.106238</td>\n",
              "      <td>-1.136811</td>\n",
              "      <td>...</td>\n",
              "      <td>1.535466</td>\n",
              "      <td>-3.113738</td>\n",
              "      <td>-0.579717</td>\n",
              "      <td>-1.287840</td>\n",
              "      <td>-0.895918</td>\n",
              "      <td>-0.275327</td>\n",
              "      <td>-2.095167</td>\n",
              "      <td>-1.023440</td>\n",
              "      <td>0.827415</td>\n",
              "      <td>-0.625081</td>\n",
              "    </tr>\n",
              "    <tr>\n",
              "      <th>4</th>\n",
              "      <td>2.222681</td>\n",
              "      <td>-1.329499</td>\n",
              "      <td>-2.856633</td>\n",
              "      <td>3.985693</td>\n",
              "      <td>-2.392944</td>\n",
              "      <td>1.805915</td>\n",
              "      <td>0.598616</td>\n",
              "      <td>-0.951461</td>\n",
              "      <td>-1.138486</td>\n",
              "      <td>-1.559314</td>\n",
              "      <td>...</td>\n",
              "      <td>1.722368</td>\n",
              "      <td>-1.700150</td>\n",
              "      <td>-0.727134</td>\n",
              "      <td>-0.259903</td>\n",
              "      <td>-2.163040</td>\n",
              "      <td>0.236748</td>\n",
              "      <td>-0.758186</td>\n",
              "      <td>-1.591737</td>\n",
              "      <td>0.637878</td>\n",
              "      <td>-0.834662</td>\n",
              "    </tr>\n",
              "    <tr>\n",
              "      <th>...</th>\n",
              "      <td>...</td>\n",
              "      <td>...</td>\n",
              "      <td>...</td>\n",
              "      <td>...</td>\n",
              "      <td>...</td>\n",
              "      <td>...</td>\n",
              "      <td>...</td>\n",
              "      <td>...</td>\n",
              "      <td>...</td>\n",
              "      <td>...</td>\n",
              "      <td>...</td>\n",
              "      <td>...</td>\n",
              "      <td>...</td>\n",
              "      <td>...</td>\n",
              "      <td>...</td>\n",
              "      <td>...</td>\n",
              "      <td>...</td>\n",
              "      <td>...</td>\n",
              "      <td>...</td>\n",
              "      <td>...</td>\n",
              "      <td>...</td>\n",
              "    </tr>\n",
              "    <tr>\n",
              "      <th>35323</th>\n",
              "      <td>3.902381</td>\n",
              "      <td>0.236763</td>\n",
              "      <td>-0.698263</td>\n",
              "      <td>2.019784</td>\n",
              "      <td>0.337826</td>\n",
              "      <td>0.343013</td>\n",
              "      <td>0.535201</td>\n",
              "      <td>-1.341204</td>\n",
              "      <td>0.320892</td>\n",
              "      <td>-1.999586</td>\n",
              "      <td>...</td>\n",
              "      <td>0.714978</td>\n",
              "      <td>-4.657207</td>\n",
              "      <td>-2.390652</td>\n",
              "      <td>0.859175</td>\n",
              "      <td>0.333692</td>\n",
              "      <td>2.513768</td>\n",
              "      <td>0.183077</td>\n",
              "      <td>2.132719</td>\n",
              "      <td>-0.710044</td>\n",
              "      <td>-0.749938</td>\n",
              "    </tr>\n",
              "    <tr>\n",
              "      <th>35324</th>\n",
              "      <td>2.264624</td>\n",
              "      <td>-1.878903</td>\n",
              "      <td>-3.657181</td>\n",
              "      <td>2.048610</td>\n",
              "      <td>-0.856875</td>\n",
              "      <td>2.003016</td>\n",
              "      <td>-0.418253</td>\n",
              "      <td>-3.663642</td>\n",
              "      <td>-1.536171</td>\n",
              "      <td>1.953960</td>\n",
              "      <td>...</td>\n",
              "      <td>0.364567</td>\n",
              "      <td>-4.848113</td>\n",
              "      <td>-2.681099</td>\n",
              "      <td>2.726894</td>\n",
              "      <td>0.111392</td>\n",
              "      <td>2.248328</td>\n",
              "      <td>0.016255</td>\n",
              "      <td>0.992371</td>\n",
              "      <td>-0.800181</td>\n",
              "      <td>-0.774167</td>\n",
              "    </tr>\n",
              "    <tr>\n",
              "      <th>35325</th>\n",
              "      <td>2.931981</td>\n",
              "      <td>-1.783965</td>\n",
              "      <td>0.364712</td>\n",
              "      <td>2.107284</td>\n",
              "      <td>-0.681912</td>\n",
              "      <td>-0.855348</td>\n",
              "      <td>-0.030395</td>\n",
              "      <td>-1.451763</td>\n",
              "      <td>-0.077196</td>\n",
              "      <td>-1.026734</td>\n",
              "      <td>...</td>\n",
              "      <td>0.755534</td>\n",
              "      <td>-2.682415</td>\n",
              "      <td>-0.060453</td>\n",
              "      <td>-3.281865</td>\n",
              "      <td>-0.274081</td>\n",
              "      <td>-0.251488</td>\n",
              "      <td>-1.624794</td>\n",
              "      <td>-0.472010</td>\n",
              "      <td>-0.950113</td>\n",
              "      <td>-0.274965</td>\n",
              "    </tr>\n",
              "    <tr>\n",
              "      <th>35326</th>\n",
              "      <td>5.266166</td>\n",
              "      <td>-0.892147</td>\n",
              "      <td>-0.678901</td>\n",
              "      <td>0.208902</td>\n",
              "      <td>2.160932</td>\n",
              "      <td>1.489217</td>\n",
              "      <td>-0.154762</td>\n",
              "      <td>-3.814254</td>\n",
              "      <td>-1.528633</td>\n",
              "      <td>0.290677</td>\n",
              "      <td>...</td>\n",
              "      <td>0.191023</td>\n",
              "      <td>0.527912</td>\n",
              "      <td>0.530646</td>\n",
              "      <td>-2.910731</td>\n",
              "      <td>-0.463829</td>\n",
              "      <td>-1.831557</td>\n",
              "      <td>-2.385628</td>\n",
              "      <td>2.413481</td>\n",
              "      <td>-0.397143</td>\n",
              "      <td>0.823369</td>\n",
              "    </tr>\n",
              "    <tr>\n",
              "      <th>35327</th>\n",
              "      <td>5.030057</td>\n",
              "      <td>-0.596759</td>\n",
              "      <td>-0.610560</td>\n",
              "      <td>1.414055</td>\n",
              "      <td>-1.034763</td>\n",
              "      <td>0.825527</td>\n",
              "      <td>1.091083</td>\n",
              "      <td>-2.094663</td>\n",
              "      <td>-0.894912</td>\n",
              "      <td>-1.766789</td>\n",
              "      <td>...</td>\n",
              "      <td>-0.578201</td>\n",
              "      <td>-2.965646</td>\n",
              "      <td>0.287698</td>\n",
              "      <td>-1.991649</td>\n",
              "      <td>-0.971215</td>\n",
              "      <td>-0.476291</td>\n",
              "      <td>-2.844753</td>\n",
              "      <td>2.233542</td>\n",
              "      <td>-0.666801</td>\n",
              "      <td>1.503195</td>\n",
              "    </tr>\n",
              "  </tbody>\n",
              "</table>\n",
              "<p>35328 rows × 512 columns</p>\n",
              "</div>"
            ],
            "text/plain": [
              "            0         1         2         3         4         5         6    \\\n",
              "0      2.919363 -1.669769  0.692077  0.830076 -1.659853  0.111276 -0.237923   \n",
              "1      0.888674 -1.636093 -3.402671  1.935414 -0.229169  2.447495  0.213846   \n",
              "2      3.891949 -3.220488 -1.118621  1.380225  1.179852  1.601483  0.364860   \n",
              "3      3.446969 -0.064171 -2.262740  0.345461  2.401844  0.146445  1.400088   \n",
              "4      2.222681 -1.329499 -2.856633  3.985693 -2.392944  1.805915  0.598616   \n",
              "...         ...       ...       ...       ...       ...       ...       ...   \n",
              "35323  3.902381  0.236763 -0.698263  2.019784  0.337826  0.343013  0.535201   \n",
              "35324  2.264624 -1.878903 -3.657181  2.048610 -0.856875  2.003016 -0.418253   \n",
              "35325  2.931981 -1.783965  0.364712  2.107284 -0.681912 -0.855348 -0.030395   \n",
              "35326  5.266166 -0.892147 -0.678901  0.208902  2.160932  1.489217 -0.154762   \n",
              "35327  5.030057 -0.596759 -0.610560  1.414055 -1.034763  0.825527  1.091083   \n",
              "\n",
              "            7         8         9    ...       502       503       504  \\\n",
              "0     -2.141848 -0.442302 -0.342038  ...  0.249392 -1.605653 -1.078064   \n",
              "1     -2.252254 -1.492656  3.091881  ... -0.241138 -1.501706 -0.952623   \n",
              "2     -3.990330 -1.535794 -1.854613  ...  0.125863 -2.847452 -0.789337   \n",
              "3     -2.909817 -2.106238 -1.136811  ...  1.535466 -3.113738 -0.579717   \n",
              "4     -0.951461 -1.138486 -1.559314  ...  1.722368 -1.700150 -0.727134   \n",
              "...         ...       ...       ...  ...       ...       ...       ...   \n",
              "35323 -1.341204  0.320892 -1.999586  ...  0.714978 -4.657207 -2.390652   \n",
              "35324 -3.663642 -1.536171  1.953960  ...  0.364567 -4.848113 -2.681099   \n",
              "35325 -1.451763 -0.077196 -1.026734  ...  0.755534 -2.682415 -0.060453   \n",
              "35326 -3.814254 -1.528633  0.290677  ...  0.191023  0.527912  0.530646   \n",
              "35327 -2.094663 -0.894912 -1.766789  ... -0.578201 -2.965646  0.287698   \n",
              "\n",
              "            505       506       507       508       509       510       511  \n",
              "0     -1.610655 -1.718846  0.421101 -2.694560  1.265672  1.081484  2.185368  \n",
              "1     -0.607781 -0.040614 -0.769011 -2.778710  3.116666  0.341036  1.264293  \n",
              "2     -0.925192  0.343257 -0.186160 -3.352988  0.855913 -0.118125 -0.138036  \n",
              "3     -1.287840 -0.895918 -0.275327 -2.095167 -1.023440  0.827415 -0.625081  \n",
              "4     -0.259903 -2.163040  0.236748 -0.758186 -1.591737  0.637878 -0.834662  \n",
              "...         ...       ...       ...       ...       ...       ...       ...  \n",
              "35323  0.859175  0.333692  2.513768  0.183077  2.132719 -0.710044 -0.749938  \n",
              "35324  2.726894  0.111392  2.248328  0.016255  0.992371 -0.800181 -0.774167  \n",
              "35325 -3.281865 -0.274081 -0.251488 -1.624794 -0.472010 -0.950113 -0.274965  \n",
              "35326 -2.910731 -0.463829 -1.831557 -2.385628  2.413481 -0.397143  0.823369  \n",
              "35327 -1.991649 -0.971215 -0.476291 -2.844753  2.233542 -0.666801  1.503195  \n",
              "\n",
              "[35328 rows x 512 columns]"
            ]
          },
          "execution_count": 24,
          "metadata": {},
          "output_type": "execute_result"
        }
      ],
      "source": [
        "df"
      ]
    },
    {
      "cell_type": "code",
      "execution_count": null,
      "metadata": {
        "id": "iP7I2KPevFLE"
      },
      "outputs": [
        {
          "data": {
            "text/plain": [
              "70684"
            ]
          },
          "execution_count": 25,
          "metadata": {},
          "output_type": "execute_result"
        }
      ],
      "source": [
        "all_files = [filename for filename in os.listdir('png_512') if filename.endswith('.png')]\n",
        "len(all_files)"
      ]
    },
    {
      "cell_type": "code",
      "execution_count": null,
      "metadata": {
        "id": "yWz2ps8wvOFT"
      },
      "outputs": [],
      "source": [
        "\n",
        "# Remove \"resultado_\" prefix and \".png\" suffix from all elements in the list\n",
        "cleaned_list = [filename.replace('resultado_', '').replace('.png', '') for filename in all_files]\n",
        "\n",
        "\n",
        "cleaned_list = sorted(cleaned_list)\n"
      ]
    },
    {
      "cell_type": "code",
      "execution_count": null,
      "metadata": {
        "id": "x-F8ofGIv97E"
      },
      "outputs": [
        {
          "data": {
            "text/plain": [
              "35328"
            ]
          },
          "execution_count": 31,
          "metadata": {},
          "output_type": "execute_result"
        }
      ],
      "source": [
        "df['Filenames'] = cleaned_list"
      ]
    },
    {
      "cell_type": "code",
      "execution_count": null,
      "metadata": {
        "id": "Chwm9Ls6wAil"
      },
      "outputs": [],
      "source": [
        "#df.to_csv('/content/drive/My Drive/Colab Notebooks/tc/resultados/output_dim16_mp50.csv', index=False)"
      ]
    }
  ],
  "metadata": {
    "accelerator": "GPU",
    "colab": {
      "provenance": []
    },
    "kernelspec": {
      "display_name": "mae-cows",
      "language": "python",
      "name": "python3"
    },
    "language_info": {
      "codemirror_mode": {
        "name": "ipython",
        "version": 3
      },
      "file_extension": ".py",
      "mimetype": "text/x-python",
      "name": "python",
      "nbconvert_exporter": "python",
      "pygments_lexer": "ipython3",
      "version": "3.10.13"
    }
  },
  "nbformat": 4,
  "nbformat_minor": 0
}
