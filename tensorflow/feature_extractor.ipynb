{
  "cells": [
    {
      "cell_type": "markdown",
      "metadata": {},
      "source": [
        "# Feature Extractor Code "
      ]
    },
    {
      "cell_type": "code",
      "execution_count": 1,
      "metadata": {
        "id": "Lu-91r-eYm3-"
      },
      "outputs": [
        {
          "name": "stderr",
          "output_type": "stream",
          "text": [
            "2025-03-26 10:43:17.178378: I tensorflow/core/util/port.cc:153] oneDNN custom operations are on. You may see slightly different numerical results due to floating-point round-off errors from different computation orders. To turn them off, set the environment variable `TF_ENABLE_ONEDNN_OPTS=0`.\n",
            "2025-03-26 10:43:17.189898: E external/local_xla/xla/stream_executor/cuda/cuda_fft.cc:477] Unable to register cuFFT factory: Attempting to register factory for plugin cuFFT when one has already been registered\n",
            "WARNING: All log messages before absl::InitializeLog() is called are written to STDERR\n",
            "E0000 00:00:1742996597.203728 1971195 cuda_dnn.cc:8310] Unable to register cuDNN factory: Attempting to register factory for plugin cuDNN when one has already been registered\n",
            "E0000 00:00:1742996597.207271 1971195 cuda_blas.cc:1418] Unable to register cuBLAS factory: Attempting to register factory for plugin cuBLAS when one has already been registered\n",
            "2025-03-26 10:43:17.222404: I tensorflow/core/platform/cpu_feature_guard.cc:210] This TensorFlow binary is optimized to use available CPU instructions in performance-critical operations.\n",
            "To enable the following instructions: AVX2 AVX512F AVX512_VNNI AVX512_BF16 AVX512_FP16 AVX_VNNI AMX_TILE AMX_INT8 AMX_BF16 FMA, in other operations, rebuild TensorFlow with the appropriate compiler flags.\n"
          ]
        }
      ],
      "source": [
        "from tensorflow.keras import layers\n",
        "from tensorflow import keras\n",
        "import tensorflow as tf\n",
        "\n",
        "import matplotlib.pyplot as plt\n",
        "import numpy as np\n",
        "import random\n",
        "import pandas as pd\n",
        "\n",
        "# Setting seeds for reproducibility.\n",
        "SEED = 42\n",
        "keras.utils.set_random_seed(SEED)"
      ]
    },
    {
      "cell_type": "code",
      "execution_count": 2,
      "metadata": {},
      "outputs": [],
      "source": [
        "from mae_code import *"
      ]
    },
    {
      "cell_type": "code",
      "execution_count": 3,
      "metadata": {
        "id": "zv7ySS19YppA"
      },
      "outputs": [],
      "source": [
        "# DATA\n",
        "BUFFER_SIZE = 512\n",
        "BATCH_SIZE = 128\n",
        "AUTO = tf.data.AUTOTUNE\n",
        "\n",
        "# OPTIMIZER\n",
        "LEARNING_RATE = 5e-3\n",
        "WEIGHT_DECAY = 1e-4\n",
        "\n",
        "\n",
        "# PRETRAINING\n",
        "EPOCHS = 100\n"
      ]
    },
    {
      "cell_type": "markdown",
      "metadata": {
        "id": "ePYnQ0UUZPLL"
      },
      "source": [
        "## Load data\n"
      ]
    },
    {
      "cell_type": "code",
      "execution_count": 4,
      "metadata": {
        "colab": {
          "base_uri": "https://localhost:8080/",
          "height": 367
        },
        "id": "ARiHOMdpYpu-",
        "outputId": "79ccf778-0c34-4ecd-d4b5-36ecf179d313"
      },
      "outputs": [
        {
          "name": "stdout",
          "output_type": "stream",
          "text": [
            "Found 70684 files.\n"
          ]
        },
        {
          "name": "stderr",
          "output_type": "stream",
          "text": [
            "I0000 00:00:1742996600.409822 1971195 gpu_device.cc:2022] Created device /job:localhost/replica:0/task:0/device:GPU:0 with 13655 MB memory:  -> device: 0, name: NVIDIA RTX A4000, pci bus id: 0000:55:00.0, compute capability: 8.6\n"
          ]
        }
      ],
      "source": [
        "import os\n",
        "import tensorflow as tf\n",
        "\n",
        "\n",
        "\n",
        "base_dir = '../png_512'\n",
        "\n",
        "# Create a dataset from images in the directory\n",
        "dataset = tf.keras.utils.image_dataset_from_directory(\n",
        "    os.path.join(base_dir),              # Base directory\n",
        "    labels='inferred',                   # Infer labels from directory structure\n",
        "    color_mode=\"grayscale\",\n",
        "    label_mode=None,                     # No labels\n",
        "    image_size=(IMAGE_SIZE, IMAGE_SIZE), # Image size\n",
        "    batch_size=BATCH_SIZE,               # Batch size\n",
        "    shuffle=False,                       # Do not shuffle the data\n",
        "    interpolation='bilinear'\n",
        ")\n",
        "\n",
        "\n"
      ]
    },
    {
      "cell_type": "markdown",
      "metadata": {
        "id": "iFkioZ0RIIu6"
      },
      "source": [
        "## Functions\n",
        "\n",
        "These functions are identical to those used in the pre-training code.\n"
      ]
    },
    {
      "cell_type": "code",
      "execution_count": 5,
      "metadata": {
        "id": "S_0p1EalYp0f"
      },
      "outputs": [],
      "source": [
        "def get_train_augmentation_model():\n",
        "    model = keras.Sequential(\n",
        "        [\n",
        "            layers.Rescaling(1 / 255.0),\n",
        "#             layers.RandomFlip(\"horizontal\"),\n",
        "#             layers.RandomRotation(factor=0.15),  # Rotação aleatória entre -30 e 30 graus (fator = 0.15 para 15 graus)\n",
        "         layers.Resizing(IMAGE_SIZE, IMAGE_SIZE)\n",
        "        ],\n",
        "        name=\"train_data_augmentation\",\n",
        "    )\n",
        "    return model\n",
        "\n",
        "\n",
        "def get_test_augmentation_model():\n",
        "    model = keras.Sequential(\n",
        "        [layers.Rescaling(1 / 255.0),\n",
        "         layers.Resizing(IMAGE_SIZE, IMAGE_SIZE),],\n",
        "        name=\"test_data_augmentation\",\n",
        "    )\n",
        "    return model"
      ]
    },
    {
      "cell_type": "code",
      "execution_count": 6,
      "metadata": {
        "id": "2nbBH_3_Z69G"
      },
      "outputs": [
        {
          "name": "stderr",
          "output_type": "stream",
          "text": [
            "WARNING: All log messages before absl::InitializeLog() is called are written to STDERR\n",
            "W0000 00:00:1742996600.738056 1971385 gpu_backend_lib.cc:579] Can't find libdevice directory ${CUDA_DIR}/nvvm/libdevice. This may result in compilation or runtime failures, if the program we try to run uses routines from libdevice.\n",
            "Searched for CUDA in the following directories:\n",
            "  ./cuda_sdk_lib\n",
            "  ipykernel_launcher.runfiles/cuda_nvcc\n",
            "  ipykern/cuda_nvcc\n",
            "  \n",
            "  /usr/local/cuda\n",
            "  /home/alcindo/.pyenv/versions/mae-cows/lib/python3.10/site-packages/tensorflow/python/platform/../../../nvidia/cuda_nvcc\n",
            "  /home/alcindo/.pyenv/versions/mae-cows/lib/python3.10/site-packages/tensorflow/python/platform/../../../../nvidia/cuda_nvcc\n",
            "  /home/alcindo/.pyenv/versions/mae-cows/lib/python3.10/site-packages/tensorflow/python/platform/../../cuda\n",
            "  .\n",
            "You can choose the search directory by setting xla_gpu_cuda_data_dir in HloModule's DebugOptions.  For most apps, setting the environment variable XLA_FLAGS=--xla_gpu_cuda_data_dir=/path/to/cuda will work.\n"
          ]
        },
        {
          "data": {
            "image/png": "[encoded data removed]",
            "text/plain": [
              "<Figure size 640x480 with 1 Axes>"
            ]
          },
          "metadata": {},
          "output_type": "display_data"
        }
      ],
      "source": [
        "# Some code is taken from:\n",
        "# https://www.kaggle.com/ashusma/training-rfcx-tensorflow-tpu-effnet-b2.\n",
        "\n",
        "\n",
        "class WarmUpCosine(keras.optimizers.schedules.LearningRateSchedule):\n",
        "    def __init__(\n",
        "        self, learning_rate_base, total_steps, warmup_learning_rate, warmup_steps\n",
        "    ):\n",
        "        super().__init__()\n",
        "\n",
        "        self.learning_rate_base = learning_rate_base\n",
        "        self.total_steps = total_steps\n",
        "        self.warmup_learning_rate = warmup_learning_rate\n",
        "        self.warmup_steps = warmup_steps\n",
        "        self.pi = tf.constant(np.pi)\n",
        "\n",
        "    def __call__(self, step):\n",
        "        if self.total_steps < self.warmup_steps:\n",
        "            raise ValueError(\"Total_steps must be larger or equal to warmup_steps.\")\n",
        "\n",
        "        cos_annealed_lr = tf.cos(\n",
        "            self.pi\n",
        "            * (tf.cast(step, tf.float32) - self.warmup_steps)\n",
        "            / float(self.total_steps - self.warmup_steps)\n",
        "        )\n",
        "        learning_rate = 0.5 * self.learning_rate_base * (1 + cos_annealed_lr)\n",
        "\n",
        "        if self.warmup_steps > 0:\n",
        "            if self.learning_rate_base < self.warmup_learning_rate:\n",
        "                raise ValueError(\n",
        "                    \"Learning_rate_base must be larger or equal to \"\n",
        "                    \"warmup_learning_rate.\"\n",
        "                )\n",
        "            slope = (\n",
        "                self.learning_rate_base - self.warmup_learning_rate\n",
        "            ) / self.warmup_steps\n",
        "            warmup_rate = slope * tf.cast(step, tf.float32) + self.warmup_learning_rate\n",
        "            learning_rate = tf.where(\n",
        "                step < self.warmup_steps, warmup_rate, learning_rate\n",
        "            )\n",
        "        return tf.where(\n",
        "            step > self.total_steps, 0.0, learning_rate, name=\"learning_rate\"\n",
        "        )\n",
        "\n",
        "\n",
        "total_steps = int((len(dataset)) * EPOCHS)\n",
        "warmup_epoch_percentage = 0.15\n",
        "warmup_steps = int(total_steps * warmup_epoch_percentage)\n",
        "scheduled_lrs = WarmUpCosine(\n",
        "    learning_rate_base=LEARNING_RATE,\n",
        "    total_steps=total_steps,\n",
        "    warmup_learning_rate=0.0,\n",
        "    warmup_steps=warmup_steps,\n",
        ")\n",
        "\n",
        "lrs = [scheduled_lrs(step) for step in range(total_steps)]\n",
        "plt.plot(lrs)\n",
        "plt.xlabel(\"Step\", fontsize=14)\n",
        "plt.ylabel(\"LR\", fontsize=14)\n",
        "plt.show()\n"
      ]
    },
    {
      "cell_type": "markdown",
      "metadata": {},
      "source": [
        "## Load Weights from Pre-trained Models"
      ]
    },
    {
      "cell_type": "code",
      "execution_count": 7,
      "metadata": {
        "id": "b-wuPytAfd_C"
      },
      "outputs": [],
      "source": [
        "# instantiate the models\n",
        "\n",
        "train_augmentation_model = get_train_augmentation_model()\n",
        "test_augmentation_model = get_test_augmentation_model()\n",
        "patch_layer = Patches()\n",
        "patch_encoder = PatchEncoder()\n",
        "encoder = create_encoder()\n",
        "decoder = create_decoder()\n",
        "\n",
        "model = MaskedAutoencoder(\n",
        "    train_augmentation_model=train_augmentation_model,\n",
        "    test_augmentation_model=test_augmentation_model,\n",
        "    patch_layer=patch_layer,\n",
        "    patch_encoder=patch_encoder,\n",
        "    encoder=encoder,\n",
        "    decoder=decoder,\n",
        ")\n",
        "\n",
        "optimizer = tf.optimizers.AdamW(learning_rate=scheduled_lrs, weight_decay=WEIGHT_DECAY)\n",
        "\n",
        "#Compile and pretrain the model.\n",
        "model.compile( optimizer=optimizer, loss=keras.losses.MeanSquaredError(), metrics=[\"mae\"])"
      ]
    },
    {
      "cell_type": "code",
      "execution_count": 8,
      "metadata": {
        "id": "RhIWhnlCj4yZ"
      },
      "outputs": [
        {
          "name": "stdout",
          "output_type": "stream",
          "text": [
            "Checkpoint restored successfully!\n"
          ]
        }
      ],
      "source": [
        "check_point = \"pre-trained-models/mp75/\"\n",
        "\n",
        "# Creating the checkpoint to restore\n",
        "checkpoint = tf.train.Checkpoint(\n",
        "    patch_encoder=model.patch_encoder,\n",
        "    encoder=model.encoder,\n",
        "    decoder=model.decoder\n",
        ")\n",
        "\n",
        "# Define the directory where the checkpoint was saved\n",
        "checkpoint_directory = check_point + 'mae_model/'\n",
        "\n",
        "# Check if the checkpoint exists and restore it\n",
        "latest_checkpoint = tf.train.latest_checkpoint(checkpoint_directory)\n",
        "\n",
        "if latest_checkpoint:\n",
        "    checkpoint.restore(latest_checkpoint).expect_partial()\n",
        "    print(\"Checkpoint restored successfully!\")\n",
        "else:\n",
        "    print(\"No checkpoint found.\")"
      ]
    },
    {
      "cell_type": "markdown",
      "metadata": {},
      "source": [
        "## Visualizing the Reconstruction"
      ]
    },
    {
      "cell_type": "code",
      "execution_count": 13,
      "metadata": {},
      "outputs": [],
      "source": [
        "images = next(iter(dataset))\n",
        "\n",
        "augmented_images = test_augmentation_model(images)"
      ]
    },
    {
      "cell_type": "code",
      "execution_count": 14,
      "metadata": {},
      "outputs": [],
      "source": [
        "\n",
        "import matplotlib.pyplot as plt\n",
        "\n",
        "def visualize_results(model, augmented_images):\n",
        "\n",
        "    # Patch the augmented images.\n",
        "    patches = model.patch_layer(augmented_images)\n",
        "\n",
        "    # Encode the patches.\n",
        "    (\n",
        "        unmasked_embeddings,\n",
        "        masked_embeddings,\n",
        "        unmasked_positions,\n",
        "        mask_indices,\n",
        "        unmask_indices,\n",
        "    ) = model.patch_encoder(patches)\n",
        "\n",
        "    # Pass the unmasked patches to the encoder.\n",
        "    encoder_outputs = model.encoder(unmasked_embeddings)\n",
        "\n",
        "    # Create the decoder inputs.\n",
        "    encoder_outputs = encoder_outputs + unmasked_positions\n",
        "    decoder_inputs = tf.concat([encoder_outputs, masked_embeddings], axis=1)\n",
        "    decoder_outputs = model.decoder(decoder_inputs)\n",
        "\n",
        "    # Show a masked patch image.\n",
        "    masked_patches = model.patch_encoder.generate_masked_images(\n",
        "        patches[2:6], unmask_indices[2:6], color = 0.3\n",
        ")\n",
        "\n",
        "    masked_images = []\n",
        "    for masked_patch in masked_patches:\n",
        "        # Apply the reconstruction function to the masked patch\n",
        "        masked_image = model.patch_layer.reconstruct_from_patch(masked_patch)\n",
        "        masked_images.append(masked_image)\n",
        "\n",
        "    original_image = augmented_images[2:6]\n",
        "    reconstructed_image = decoder_outputs[2:6]\n",
        "\n",
        "    # Minimalistic plot settings\n",
        "    fig, ax = plt.subplots(4, 3, figsize=(7.5, 10))\n",
        "    plt.subplots_adjust(wspace=0.01, hspace=0.01)\n",
        "\n",
        "    for i in range(4):\n",
        "        # Original\n",
        "        ax[i, 0].imshow(original_image[i], cmap='gray')\n",
        "        ax[i, 0].axis('off')\n",
        "\n",
        "        # Masked\n",
        "        ax[i, 1].imshow(masked_images[i], cmap='gray')\n",
        "        ax[i, 1].axis('off')\n",
        "\n",
        "        # Reconstruída\n",
        "        ax[i, 2].imshow(reconstructed_image[i], cmap='gray')\n",
        "        ax[i, 2].axis('off')\n",
        "\n",
        "        if i == 0:\n",
        "          ax[i, 0].set_title(\"Original\")\n",
        "          ax[i, 1].set_title(\"Masked\")\n",
        "          ax[i, 2].set_title(\"Reconstructed\")\n",
        "\n",
        "    plt.show()"
      ]
    },
    {
      "cell_type": "code",
      "execution_count": 15,
      "metadata": {},
      "outputs": [
        {
          "name": "stderr",
          "output_type": "stream",
          "text": [
            "2025-03-26 10:46:18.689341: W tensorflow/core/framework/op_kernel.cc:1829] UNKNOWN: JIT compilation failed.\n"
          ]
        },
        {
          "ename": "UnknownError",
          "evalue": "Exception encountered when calling LayerNormalization.call().\n\n\u001b[1m{{function_node __wrapped__Rsqrt_device_/job:localhost/replica:0/task:0/device:GPU:0}} JIT compilation failed. [Op:Rsqrt] name: \u001b[0m\n\nArguments received by LayerNormalization.call():\n  • inputs=tf.Tensor(shape=(128, 16, 16), dtype=float32)",
          "output_type": "error",
          "traceback": [
            "\u001b[0;31m---------------------------------------------------------------------------\u001b[0m",
            "\u001b[0;31mUnknownError\u001b[0m                              Traceback (most recent call last)",
            "Cell \u001b[0;32mIn[15], line 2\u001b[0m\n\u001b[1;32m      1\u001b[0m \u001b[38;5;66;03m# augmented_images = test_augmentation_model(images)\u001b[39;00m\n\u001b[0;32m----> 2\u001b[0m \u001b[43mvisualize_results\u001b[49m\u001b[43m(\u001b[49m\u001b[43mmodel\u001b[49m\u001b[43m,\u001b[49m\u001b[43m \u001b[49m\u001b[43maugmented_images\u001b[49m\u001b[43m)\u001b[49m\n",
            "Cell \u001b[0;32mIn[14], line 18\u001b[0m, in \u001b[0;36mvisualize_results\u001b[0;34m(model, augmented_images)\u001b[0m\n\u001b[1;32m      9\u001b[0m (\n\u001b[1;32m     10\u001b[0m     unmasked_embeddings,\n\u001b[1;32m     11\u001b[0m     masked_embeddings,\n\u001b[0;32m   (...)\u001b[0m\n\u001b[1;32m     14\u001b[0m     unmask_indices,\n\u001b[1;32m     15\u001b[0m ) \u001b[38;5;241m=\u001b[39m model\u001b[38;5;241m.\u001b[39mpatch_encoder(patches)\n\u001b[1;32m     17\u001b[0m \u001b[38;5;66;03m# Pass the unmasked patches to the encoder.\u001b[39;00m\n\u001b[0;32m---> 18\u001b[0m encoder_outputs \u001b[38;5;241m=\u001b[39m \u001b[43mmodel\u001b[49m\u001b[38;5;241;43m.\u001b[39;49m\u001b[43mencoder\u001b[49m\u001b[43m(\u001b[49m\u001b[43munmasked_embeddings\u001b[49m\u001b[43m)\u001b[49m\n\u001b[1;32m     20\u001b[0m \u001b[38;5;66;03m# Create the decoder inputs.\u001b[39;00m\n\u001b[1;32m     21\u001b[0m encoder_outputs \u001b[38;5;241m=\u001b[39m encoder_outputs \u001b[38;5;241m+\u001b[39m unmasked_positions\n",
            "File \u001b[0;32m~/.pyenv/versions/mae-cows/lib/python3.10/site-packages/keras/src/utils/traceback_utils.py:122\u001b[0m, in \u001b[0;36mfilter_traceback.<locals>.error_handler\u001b[0;34m(*args, **kwargs)\u001b[0m\n\u001b[1;32m    119\u001b[0m     filtered_tb \u001b[38;5;241m=\u001b[39m _process_traceback_frames(e\u001b[38;5;241m.\u001b[39m__traceback__)\n\u001b[1;32m    120\u001b[0m     \u001b[38;5;66;03m# To get the full stack trace, call:\u001b[39;00m\n\u001b[1;32m    121\u001b[0m     \u001b[38;5;66;03m# `keras.config.disable_traceback_filtering()`\u001b[39;00m\n\u001b[0;32m--> 122\u001b[0m     \u001b[38;5;28;01mraise\u001b[39;00m e\u001b[38;5;241m.\u001b[39mwith_traceback(filtered_tb) \u001b[38;5;28;01mfrom\u001b[39;00m\u001b[38;5;250m \u001b[39m\u001b[38;5;28;01mNone\u001b[39;00m\n\u001b[1;32m    123\u001b[0m \u001b[38;5;28;01mfinally\u001b[39;00m:\n\u001b[1;32m    124\u001b[0m     \u001b[38;5;28;01mdel\u001b[39;00m filtered_tb\n",
            "File \u001b[0;32m~/.pyenv/versions/mae-cows/lib/python3.10/site-packages/tensorflow/python/framework/ops.py:6002\u001b[0m, in \u001b[0;36mraise_from_not_ok_status\u001b[0;34m(e, name)\u001b[0m\n\u001b[1;32m   6000\u001b[0m \u001b[38;5;28;01mdef\u001b[39;00m\u001b[38;5;250m \u001b[39m\u001b[38;5;21mraise_from_not_ok_status\u001b[39m(e, name) \u001b[38;5;241m-\u001b[39m\u001b[38;5;241m>\u001b[39m NoReturn:\n\u001b[1;32m   6001\u001b[0m   e\u001b[38;5;241m.\u001b[39mmessage \u001b[38;5;241m+\u001b[39m\u001b[38;5;241m=\u001b[39m (\u001b[38;5;124m\"\u001b[39m\u001b[38;5;124m name: \u001b[39m\u001b[38;5;124m\"\u001b[39m \u001b[38;5;241m+\u001b[39m \u001b[38;5;28mstr\u001b[39m(name \u001b[38;5;28;01mif\u001b[39;00m name \u001b[38;5;129;01mis\u001b[39;00m \u001b[38;5;129;01mnot\u001b[39;00m \u001b[38;5;28;01mNone\u001b[39;00m \u001b[38;5;28;01melse\u001b[39;00m \u001b[38;5;124m\"\u001b[39m\u001b[38;5;124m\"\u001b[39m))\n\u001b[0;32m-> 6002\u001b[0m   \u001b[38;5;28;01mraise\u001b[39;00m core\u001b[38;5;241m.\u001b[39m_status_to_exception(e) \u001b[38;5;28;01mfrom\u001b[39;00m\u001b[38;5;250m \u001b[39m\u001b[38;5;28;01mNone\u001b[39;00m\n",
            "\u001b[0;31mUnknownError\u001b[0m: Exception encountered when calling LayerNormalization.call().\n\n\u001b[1m{{function_node __wrapped__Rsqrt_device_/job:localhost/replica:0/task:0/device:GPU:0}} JIT compilation failed. [Op:Rsqrt] name: \u001b[0m\n\nArguments received by LayerNormalization.call():\n  • inputs=tf.Tensor(shape=(128, 16, 16), dtype=float32)"
          ]
        }
      ],
      "source": [
        "\n",
        "# augmented_images = test_augmentation_model(images)\n",
        "visualize_results(model, augmented_images)"
      ]
    },
    {
      "cell_type": "markdown",
      "metadata": {},
      "source": [
        "## Extracting Latent Variables"
      ]
    },
    {
      "cell_type": "code",
      "execution_count": 16,
      "metadata": {
        "id": "A46UMn2VmQNx"
      },
      "outputs": [
        {
          "name": "stderr",
          "output_type": "stream",
          "text": [
            "  0%|          | 0/553 [00:00<?, ?it/s]2025-03-26 10:46:33.432266: W tensorflow/core/framework/op_kernel.cc:1829] UNKNOWN: JIT compilation failed.\n",
            "2025-03-26 10:46:33.432314: I tensorflow/core/framework/local_rendezvous.cc:405] Local rendezvous is aborting with status: UNKNOWN: JIT compilation failed.\n",
            "  0%|          | 0/553 [00:00<?, ?it/s]\n"
          ]
        },
        {
          "ename": "UnknownError",
          "evalue": "Exception encountered when calling LayerNormalization.call().\n\n\u001b[1m{{function_node __wrapped__Rsqrt_device_/job:localhost/replica:0/task:0/device:GPU:0}} JIT compilation failed. [Op:Rsqrt] name: \u001b[0m\n\nArguments received by LayerNormalization.call():\n  • inputs=tf.Tensor(shape=(128, 16, 16), dtype=float32)",
          "output_type": "error",
          "traceback": [
            "\u001b[0;31m---------------------------------------------------------------------------\u001b[0m",
            "\u001b[0;31mUnknownError\u001b[0m                              Traceback (most recent call last)",
            "Cell \u001b[0;32mIn[16], line 29\u001b[0m\n\u001b[1;32m     20\u001b[0m (\n\u001b[1;32m     21\u001b[0m     unmasked_embeddings,\n\u001b[1;32m     22\u001b[0m     masked_embeddings,\n\u001b[0;32m   (...)\u001b[0m\n\u001b[1;32m     25\u001b[0m     unmask_indices,\n\u001b[1;32m     26\u001b[0m ) \u001b[38;5;241m=\u001b[39m model\u001b[38;5;241m.\u001b[39mpatch_encoder(patches)\n\u001b[1;32m     28\u001b[0m \u001b[38;5;66;03m# Pass the unmasked patches to the encoder\u001b[39;00m\n\u001b[0;32m---> 29\u001b[0m encoder_outputs \u001b[38;5;241m=\u001b[39m \u001b[43mmodel\u001b[49m\u001b[38;5;241;43m.\u001b[39;49m\u001b[43mencoder\u001b[49m\u001b[43m(\u001b[49m\u001b[43munmasked_embeddings\u001b[49m\u001b[43m)\u001b[49m\n\u001b[1;32m     31\u001b[0m \u001b[38;5;66;03m# Append the processed image to the list\u001b[39;00m\n\u001b[1;32m     32\u001b[0m processed_images\u001b[38;5;241m.\u001b[39mappend(encoder_outputs)\n",
            "File \u001b[0;32m~/.pyenv/versions/mae-cows/lib/python3.10/site-packages/keras/src/utils/traceback_utils.py:122\u001b[0m, in \u001b[0;36mfilter_traceback.<locals>.error_handler\u001b[0;34m(*args, **kwargs)\u001b[0m\n\u001b[1;32m    119\u001b[0m     filtered_tb \u001b[38;5;241m=\u001b[39m _process_traceback_frames(e\u001b[38;5;241m.\u001b[39m__traceback__)\n\u001b[1;32m    120\u001b[0m     \u001b[38;5;66;03m# To get the full stack trace, call:\u001b[39;00m\n\u001b[1;32m    121\u001b[0m     \u001b[38;5;66;03m# `keras.config.disable_traceback_filtering()`\u001b[39;00m\n\u001b[0;32m--> 122\u001b[0m     \u001b[38;5;28;01mraise\u001b[39;00m e\u001b[38;5;241m.\u001b[39mwith_traceback(filtered_tb) \u001b[38;5;28;01mfrom\u001b[39;00m\u001b[38;5;250m \u001b[39m\u001b[38;5;28;01mNone\u001b[39;00m\n\u001b[1;32m    123\u001b[0m \u001b[38;5;28;01mfinally\u001b[39;00m:\n\u001b[1;32m    124\u001b[0m     \u001b[38;5;28;01mdel\u001b[39;00m filtered_tb\n",
            "File \u001b[0;32m~/.pyenv/versions/mae-cows/lib/python3.10/site-packages/tensorflow/python/framework/ops.py:6002\u001b[0m, in \u001b[0;36mraise_from_not_ok_status\u001b[0;34m(e, name)\u001b[0m\n\u001b[1;32m   6000\u001b[0m \u001b[38;5;28;01mdef\u001b[39;00m\u001b[38;5;250m \u001b[39m\u001b[38;5;21mraise_from_not_ok_status\u001b[39m(e, name) \u001b[38;5;241m-\u001b[39m\u001b[38;5;241m>\u001b[39m NoReturn:\n\u001b[1;32m   6001\u001b[0m   e\u001b[38;5;241m.\u001b[39mmessage \u001b[38;5;241m+\u001b[39m\u001b[38;5;241m=\u001b[39m (\u001b[38;5;124m\"\u001b[39m\u001b[38;5;124m name: \u001b[39m\u001b[38;5;124m\"\u001b[39m \u001b[38;5;241m+\u001b[39m \u001b[38;5;28mstr\u001b[39m(name \u001b[38;5;28;01mif\u001b[39;00m name \u001b[38;5;129;01mis\u001b[39;00m \u001b[38;5;129;01mnot\u001b[39;00m \u001b[38;5;28;01mNone\u001b[39;00m \u001b[38;5;28;01melse\u001b[39;00m \u001b[38;5;124m\"\u001b[39m\u001b[38;5;124m\"\u001b[39m))\n\u001b[0;32m-> 6002\u001b[0m   \u001b[38;5;28;01mraise\u001b[39;00m core\u001b[38;5;241m.\u001b[39m_status_to_exception(e) \u001b[38;5;28;01mfrom\u001b[39;00m\u001b[38;5;250m \u001b[39m\u001b[38;5;28;01mNone\u001b[39;00m\n",
            "\u001b[0;31mUnknownError\u001b[0m: Exception encountered when calling LayerNormalization.call().\n\n\u001b[1m{{function_node __wrapped__Rsqrt_device_/job:localhost/replica:0/task:0/device:GPU:0}} JIT compilation failed. [Op:Rsqrt] name: \u001b[0m\n\nArguments received by LayerNormalization.call():\n  • inputs=tf.Tensor(shape=(128, 16, 16), dtype=float32)"
          ]
        }
      ],
      "source": [
        "import tensorflow as tf\n",
        "from tqdm import tqdm\n",
        "\n",
        "# Assuming you have a train_dataset containing multiple images\n",
        "\n",
        "# Initialize an empty list to store the results for each image\n",
        "processed_images = []\n",
        "\n",
        "# Use tqdm to create a progress bar for the loop\n",
        "for images in tqdm(dataset, total=len(dataset)):\n",
        "    # Perform the same operations as in your code snippet\n",
        "\n",
        "    # Apply augmentation to the image\n",
        "    augmented_images = test_augmentation_model(images)\n",
        "\n",
        "    # Patch the augmented images\n",
        "    patches = patch_layer(augmented_images)\n",
        "\n",
        "    # Encode the patches\n",
        "    (\n",
        "        unmasked_embeddings,\n",
        "        masked_embeddings,\n",
        "        unmasked_positions,\n",
        "        mask_indices,\n",
        "        unmask_indices,\n",
        "    ) = model.patch_encoder(patches)\n",
        "\n",
        "    # Pass the unmasked patches to the encoder\n",
        "    encoder_outputs = model.encoder(unmasked_embeddings)\n",
        "\n",
        "    # Append the processed image to the list\n",
        "    processed_images.append(encoder_outputs)\n",
        "\n",
        "# processed_images now contains the processed data for the entire dataset, and you will see a progress bar as the loop iterates.\n"
      ]
    },
    {
      "cell_type": "markdown",
      "metadata": {},
      "source": [
        "## Reshaping and Creating a DF"
      ]
    },
    {
      "cell_type": "code",
      "execution_count": 35,
      "metadata": {
        "id": "HN5ec9fcqOFj"
      },
      "outputs": [
        {
          "name": "stderr",
          "output_type": "stream",
          "text": [
            "Reshaping: 100%|██████████| 553/553 [00:00<00:00, 24392.93it/s]\n"
          ]
        }
      ],
      "source": [
        "# number of patches not masked\n",
        "num_embb = int((1- MASK_PROPORTION) * NUM_PATCHES)\n",
        "\n",
        "\n",
        "# Initialize a new list to store the reshaped tensors\n",
        "reshaped_outputs = []\n",
        "\n",
        "# Use tqdm to create a progress bar for the loop\n",
        "for output in tqdm(processed_images, total=len(processed_images), desc=\"Reshaping\"):\n",
        "    reshaped_tensor = tf.reshape(output, [output.shape[0], num_embb  * 16])\n",
        "    reshaped_outputs.append(reshaped_tensor)"
      ]
    },
    {
      "cell_type": "code",
      "execution_count": 36,
      "metadata": {
        "id": "br1DW9FOqbn3"
      },
      "outputs": [],
      "source": [
        "\n",
        "\n",
        "# Assuming reshaped_outputs is a list of shape (553, 128, num_embb  * 16)s)\n",
        "\n",
        "# Convert the list to a NumPy array\n",
        "reshaped_array = np.array(reshaped_outputs[:-1])\n",
        "\n",
        "# Reshape the array to have shape (553*128, num_embb  * 16))\n",
        "reshaped_array = reshaped_array.reshape(-1, num_embb  * 16)\n",
        "\n",
        "# Create a DataFrame from the reshaped array\n",
        "df = pd.DataFrame(reshaped_array)\n",
        "\n"
      ]
    },
    {
      "cell_type": "code",
      "execution_count": 39,
      "metadata": {
        "id": "2VHor_9Rt2bl"
      },
      "outputs": [],
      "source": [
        "# Assuming reshaped_outputs is a list of arrays and df is your DataFrame\n",
        "last_batch = reshaped_outputs[-1]  # Assuming the last element is the last batch\n",
        "last_batch = last_batch[:28]  # Keep only the first 28 elements\n",
        "last_batch = np.array(last_batch)\n",
        "\n",
        "# Append the last batch to the DataFrame\n",
        "df = pd.concat([df, pd.DataFrame(last_batch.reshape(-1, num_embb * 16))], ignore_index=True)"
      ]
    },
    {
      "cell_type": "code",
      "execution_count": null,
      "metadata": {
        "id": "iP7I2KPevFLE"
      },
      "outputs": [
        {
          "data": {
            "text/plain": [
              "70684"
            ]
          },
          "execution_count": 41,
          "metadata": {},
          "output_type": "execute_result"
        }
      ],
      "source": [
        "# Add the filenames that correspond to observations in the DataFrame\n",
        "\n",
        "all_files = [filename for filename in os.listdir('png_512') if filename.endswith('.png')]\n",
        "\n",
        "\n",
        "# Remove \"resultado_\" prefix and \".png\" suffix from all elements in the list\n",
        "cleaned_list = [filename.replace('resultado_', '').replace('.png', '') for filename in all_files]\n",
        "\n",
        "\n",
        "cleaned_list = sorted(cleaned_list)\n",
        "\n",
        "df['Filenames'] = cleaned_list"
      ]
    },
    {
      "cell_type": "code",
      "execution_count": 44,
      "metadata": {},
      "outputs": [
        {
          "data": {
            "text/html": [
              "<div>\n",
              "<style scoped>\n",
              "    .dataframe tbody tr th:only-of-type {\n",
              "        vertical-align: middle;\n",
              "    }\n",
              "\n",
              "    .dataframe tbody tr th {\n",
              "        vertical-align: top;\n",
              "    }\n",
              "\n",
              "    .dataframe thead th {\n",
              "        text-align: right;\n",
              "    }\n",
              "</style>\n",
              "<table border=\"1\" class=\"dataframe\">\n",
              "  <thead>\n",
              "    <tr style=\"text-align: right;\">\n",
              "      <th></th>\n",
              "      <th>0</th>\n",
              "      <th>1</th>\n",
              "      <th>2</th>\n",
              "      <th>3</th>\n",
              "      <th>4</th>\n",
              "      <th>5</th>\n",
              "      <th>6</th>\n",
              "      <th>7</th>\n",
              "      <th>8</th>\n",
              "      <th>9</th>\n",
              "      <th>...</th>\n",
              "      <th>247</th>\n",
              "      <th>248</th>\n",
              "      <th>249</th>\n",
              "      <th>250</th>\n",
              "      <th>251</th>\n",
              "      <th>252</th>\n",
              "      <th>253</th>\n",
              "      <th>254</th>\n",
              "      <th>255</th>\n",
              "      <th>Filenames</th>\n",
              "    </tr>\n",
              "  </thead>\n",
              "  <tbody>\n",
              "    <tr>\n",
              "      <th>0</th>\n",
              "      <td>2.713018</td>\n",
              "      <td>0.248438</td>\n",
              "      <td>-0.886864</td>\n",
              "      <td>0.268349</td>\n",
              "      <td>1.508462</td>\n",
              "      <td>1.807836</td>\n",
              "      <td>0.505072</td>\n",
              "      <td>1.642043</td>\n",
              "      <td>-0.250945</td>\n",
              "      <td>-0.063316</td>\n",
              "      <td>...</td>\n",
              "      <td>2.236362</td>\n",
              "      <td>-0.029565</td>\n",
              "      <td>-0.425447</td>\n",
              "      <td>-1.235220</td>\n",
              "      <td>0.073183</td>\n",
              "      <td>-1.092381</td>\n",
              "      <td>-1.373107</td>\n",
              "      <td>-2.343335</td>\n",
              "      <td>-0.905959</td>\n",
              "      <td>calf_id_1387_20210621_743_depth_0042</td>\n",
              "    </tr>\n",
              "    <tr>\n",
              "      <th>1</th>\n",
              "      <td>2.624924</td>\n",
              "      <td>0.629111</td>\n",
              "      <td>-0.591922</td>\n",
              "      <td>-0.192780</td>\n",
              "      <td>0.812261</td>\n",
              "      <td>1.430371</td>\n",
              "      <td>0.191832</td>\n",
              "      <td>1.938710</td>\n",
              "      <td>-0.061651</td>\n",
              "      <td>-2.085104</td>\n",
              "      <td>...</td>\n",
              "      <td>1.494807</td>\n",
              "      <td>0.298769</td>\n",
              "      <td>-1.716003</td>\n",
              "      <td>-1.043834</td>\n",
              "      <td>0.007887</td>\n",
              "      <td>0.532930</td>\n",
              "      <td>-1.364805</td>\n",
              "      <td>-2.301051</td>\n",
              "      <td>-0.816526</td>\n",
              "      <td>calf_id_1387_20210621_743_depth_0057</td>\n",
              "    </tr>\n",
              "    <tr>\n",
              "      <th>2</th>\n",
              "      <td>4.232648</td>\n",
              "      <td>0.415663</td>\n",
              "      <td>0.075946</td>\n",
              "      <td>-0.526574</td>\n",
              "      <td>0.361823</td>\n",
              "      <td>1.068625</td>\n",
              "      <td>0.428031</td>\n",
              "      <td>0.469490</td>\n",
              "      <td>-0.058819</td>\n",
              "      <td>-1.810384</td>\n",
              "      <td>...</td>\n",
              "      <td>0.271095</td>\n",
              "      <td>-0.083337</td>\n",
              "      <td>-1.232917</td>\n",
              "      <td>-1.391044</td>\n",
              "      <td>0.441832</td>\n",
              "      <td>0.000605</td>\n",
              "      <td>-1.255802</td>\n",
              "      <td>-1.356733</td>\n",
              "      <td>-1.606273</td>\n",
              "      <td>calf_id_1387_20210621_743_depth_0059</td>\n",
              "    </tr>\n",
              "    <tr>\n",
              "      <th>3</th>\n",
              "      <td>3.514310</td>\n",
              "      <td>0.802001</td>\n",
              "      <td>-0.575343</td>\n",
              "      <td>-0.739115</td>\n",
              "      <td>0.868305</td>\n",
              "      <td>1.702362</td>\n",
              "      <td>-0.043106</td>\n",
              "      <td>1.775961</td>\n",
              "      <td>0.421748</td>\n",
              "      <td>-0.404240</td>\n",
              "      <td>...</td>\n",
              "      <td>1.828842</td>\n",
              "      <td>0.442927</td>\n",
              "      <td>-0.395177</td>\n",
              "      <td>-1.869071</td>\n",
              "      <td>-0.836037</td>\n",
              "      <td>-0.784057</td>\n",
              "      <td>-0.952475</td>\n",
              "      <td>-1.296218</td>\n",
              "      <td>-1.243929</td>\n",
              "      <td>calf_id_1387_20210621_743_depth_0061</td>\n",
              "    </tr>\n",
              "    <tr>\n",
              "      <th>4</th>\n",
              "      <td>2.332275</td>\n",
              "      <td>-1.888337</td>\n",
              "      <td>-1.713106</td>\n",
              "      <td>-0.089379</td>\n",
              "      <td>0.163423</td>\n",
              "      <td>1.234081</td>\n",
              "      <td>-0.182431</td>\n",
              "      <td>2.740392</td>\n",
              "      <td>-0.544144</td>\n",
              "      <td>0.413912</td>\n",
              "      <td>...</td>\n",
              "      <td>1.529484</td>\n",
              "      <td>-0.093163</td>\n",
              "      <td>-1.136749</td>\n",
              "      <td>-0.989103</td>\n",
              "      <td>0.888478</td>\n",
              "      <td>-0.350512</td>\n",
              "      <td>-1.369802</td>\n",
              "      <td>-2.166603</td>\n",
              "      <td>-1.022001</td>\n",
              "      <td>calf_id_1387_20210621_743_depth_0064</td>\n",
              "    </tr>\n",
              "    <tr>\n",
              "      <th>...</th>\n",
              "      <td>...</td>\n",
              "      <td>...</td>\n",
              "      <td>...</td>\n",
              "      <td>...</td>\n",
              "      <td>...</td>\n",
              "      <td>...</td>\n",
              "      <td>...</td>\n",
              "      <td>...</td>\n",
              "      <td>...</td>\n",
              "      <td>...</td>\n",
              "      <td>...</td>\n",
              "      <td>...</td>\n",
              "      <td>...</td>\n",
              "      <td>...</td>\n",
              "      <td>...</td>\n",
              "      <td>...</td>\n",
              "      <td>...</td>\n",
              "      <td>...</td>\n",
              "      <td>...</td>\n",
              "      <td>...</td>\n",
              "      <td>...</td>\n",
              "    </tr>\n",
              "    <tr>\n",
              "      <th>70679</th>\n",
              "      <td>3.032672</td>\n",
              "      <td>1.409726</td>\n",
              "      <td>0.013584</td>\n",
              "      <td>-0.555183</td>\n",
              "      <td>-0.597251</td>\n",
              "      <td>-0.211954</td>\n",
              "      <td>0.347795</td>\n",
              "      <td>-1.265983</td>\n",
              "      <td>0.217782</td>\n",
              "      <td>-1.816682</td>\n",
              "      <td>...</td>\n",
              "      <td>0.049214</td>\n",
              "      <td>1.046716</td>\n",
              "      <td>-0.525688</td>\n",
              "      <td>-0.758744</td>\n",
              "      <td>-0.925704</td>\n",
              "      <td>-0.021923</td>\n",
              "      <td>-1.056197</td>\n",
              "      <td>3.232506</td>\n",
              "      <td>2.351360</td>\n",
              "      <td>calf_id_1599_20220207_408_depth_0353</td>\n",
              "    </tr>\n",
              "    <tr>\n",
              "      <th>70680</th>\n",
              "      <td>3.540733</td>\n",
              "      <td>0.676284</td>\n",
              "      <td>-0.287784</td>\n",
              "      <td>-0.115948</td>\n",
              "      <td>-1.490668</td>\n",
              "      <td>0.028791</td>\n",
              "      <td>0.141225</td>\n",
              "      <td>-1.308898</td>\n",
              "      <td>0.328296</td>\n",
              "      <td>-2.144178</td>\n",
              "      <td>...</td>\n",
              "      <td>-1.361377</td>\n",
              "      <td>0.308411</td>\n",
              "      <td>-2.167634</td>\n",
              "      <td>-0.741325</td>\n",
              "      <td>-0.776100</td>\n",
              "      <td>0.543800</td>\n",
              "      <td>-1.118199</td>\n",
              "      <td>1.359208</td>\n",
              "      <td>2.216729</td>\n",
              "      <td>calf_id_1599_20220207_408_depth_0361</td>\n",
              "    </tr>\n",
              "    <tr>\n",
              "      <th>70681</th>\n",
              "      <td>0.762354</td>\n",
              "      <td>0.004851</td>\n",
              "      <td>0.728426</td>\n",
              "      <td>0.622469</td>\n",
              "      <td>-1.461071</td>\n",
              "      <td>-0.720045</td>\n",
              "      <td>0.107302</td>\n",
              "      <td>-1.650131</td>\n",
              "      <td>-0.310118</td>\n",
              "      <td>-1.669446</td>\n",
              "      <td>...</td>\n",
              "      <td>-1.405831</td>\n",
              "      <td>-0.047660</td>\n",
              "      <td>-1.869463</td>\n",
              "      <td>-1.606760</td>\n",
              "      <td>-0.560286</td>\n",
              "      <td>1.300325</td>\n",
              "      <td>0.247568</td>\n",
              "      <td>2.553275</td>\n",
              "      <td>2.450906</td>\n",
              "      <td>calf_id_1599_20220207_408_depth_0383</td>\n",
              "    </tr>\n",
              "    <tr>\n",
              "      <th>70682</th>\n",
              "      <td>1.671676</td>\n",
              "      <td>1.159225</td>\n",
              "      <td>-0.789472</td>\n",
              "      <td>0.739988</td>\n",
              "      <td>-1.599553</td>\n",
              "      <td>-0.525311</td>\n",
              "      <td>-0.415925</td>\n",
              "      <td>-1.030062</td>\n",
              "      <td>0.202364</td>\n",
              "      <td>-1.413841</td>\n",
              "      <td>...</td>\n",
              "      <td>-0.976835</td>\n",
              "      <td>-0.230113</td>\n",
              "      <td>-1.530534</td>\n",
              "      <td>-1.438978</td>\n",
              "      <td>-0.881212</td>\n",
              "      <td>0.944735</td>\n",
              "      <td>0.678627</td>\n",
              "      <td>2.865215</td>\n",
              "      <td>2.822381</td>\n",
              "      <td>calf_id_1599_20220207_408_depth_0390</td>\n",
              "    </tr>\n",
              "    <tr>\n",
              "      <th>70683</th>\n",
              "      <td>1.407519</td>\n",
              "      <td>1.408131</td>\n",
              "      <td>-0.713052</td>\n",
              "      <td>1.047829</td>\n",
              "      <td>-1.538878</td>\n",
              "      <td>-0.435304</td>\n",
              "      <td>-0.179526</td>\n",
              "      <td>-1.698215</td>\n",
              "      <td>0.427123</td>\n",
              "      <td>-1.390564</td>\n",
              "      <td>...</td>\n",
              "      <td>-1.715652</td>\n",
              "      <td>0.794423</td>\n",
              "      <td>-1.219044</td>\n",
              "      <td>-2.593455</td>\n",
              "      <td>-0.017849</td>\n",
              "      <td>2.255414</td>\n",
              "      <td>-0.782745</td>\n",
              "      <td>1.176620</td>\n",
              "      <td>2.761714</td>\n",
              "      <td>calf_id_1599_20220207_408_depth_0397</td>\n",
              "    </tr>\n",
              "  </tbody>\n",
              "</table>\n",
              "<p>70684 rows × 257 columns</p>\n",
              "</div>"
            ],
            "text/plain": [
              "              0         1         2         3         4         5         6  \\\n",
              "0      2.713018  0.248438 -0.886864  0.268349  1.508462  1.807836  0.505072   \n",
              "1      2.624924  0.629111 -0.591922 -0.192780  0.812261  1.430371  0.191832   \n",
              "2      4.232648  0.415663  0.075946 -0.526574  0.361823  1.068625  0.428031   \n",
              "3      3.514310  0.802001 -0.575343 -0.739115  0.868305  1.702362 -0.043106   \n",
              "4      2.332275 -1.888337 -1.713106 -0.089379  0.163423  1.234081 -0.182431   \n",
              "...         ...       ...       ...       ...       ...       ...       ...   \n",
              "70679  3.032672  1.409726  0.013584 -0.555183 -0.597251 -0.211954  0.347795   \n",
              "70680  3.540733  0.676284 -0.287784 -0.115948 -1.490668  0.028791  0.141225   \n",
              "70681  0.762354  0.004851  0.728426  0.622469 -1.461071 -0.720045  0.107302   \n",
              "70682  1.671676  1.159225 -0.789472  0.739988 -1.599553 -0.525311 -0.415925   \n",
              "70683  1.407519  1.408131 -0.713052  1.047829 -1.538878 -0.435304 -0.179526   \n",
              "\n",
              "              7         8         9  ...       247       248       249  \\\n",
              "0      1.642043 -0.250945 -0.063316  ...  2.236362 -0.029565 -0.425447   \n",
              "1      1.938710 -0.061651 -2.085104  ...  1.494807  0.298769 -1.716003   \n",
              "2      0.469490 -0.058819 -1.810384  ...  0.271095 -0.083337 -1.232917   \n",
              "3      1.775961  0.421748 -0.404240  ...  1.828842  0.442927 -0.395177   \n",
              "4      2.740392 -0.544144  0.413912  ...  1.529484 -0.093163 -1.136749   \n",
              "...         ...       ...       ...  ...       ...       ...       ...   \n",
              "70679 -1.265983  0.217782 -1.816682  ...  0.049214  1.046716 -0.525688   \n",
              "70680 -1.308898  0.328296 -2.144178  ... -1.361377  0.308411 -2.167634   \n",
              "70681 -1.650131 -0.310118 -1.669446  ... -1.405831 -0.047660 -1.869463   \n",
              "70682 -1.030062  0.202364 -1.413841  ... -0.976835 -0.230113 -1.530534   \n",
              "70683 -1.698215  0.427123 -1.390564  ... -1.715652  0.794423 -1.219044   \n",
              "\n",
              "            250       251       252       253       254       255  \\\n",
              "0     -1.235220  0.073183 -1.092381 -1.373107 -2.343335 -0.905959   \n",
              "1     -1.043834  0.007887  0.532930 -1.364805 -2.301051 -0.816526   \n",
              "2     -1.391044  0.441832  0.000605 -1.255802 -1.356733 -1.606273   \n",
              "3     -1.869071 -0.836037 -0.784057 -0.952475 -1.296218 -1.243929   \n",
              "4     -0.989103  0.888478 -0.350512 -1.369802 -2.166603 -1.022001   \n",
              "...         ...       ...       ...       ...       ...       ...   \n",
              "70679 -0.758744 -0.925704 -0.021923 -1.056197  3.232506  2.351360   \n",
              "70680 -0.741325 -0.776100  0.543800 -1.118199  1.359208  2.216729   \n",
              "70681 -1.606760 -0.560286  1.300325  0.247568  2.553275  2.450906   \n",
              "70682 -1.438978 -0.881212  0.944735  0.678627  2.865215  2.822381   \n",
              "70683 -2.593455 -0.017849  2.255414 -0.782745  1.176620  2.761714   \n",
              "\n",
              "                                  Filenames  \n",
              "0      calf_id_1387_20210621_743_depth_0042  \n",
              "1      calf_id_1387_20210621_743_depth_0057  \n",
              "2      calf_id_1387_20210621_743_depth_0059  \n",
              "3      calf_id_1387_20210621_743_depth_0061  \n",
              "4      calf_id_1387_20210621_743_depth_0064  \n",
              "...                                     ...  \n",
              "70679  calf_id_1599_20220207_408_depth_0353  \n",
              "70680  calf_id_1599_20220207_408_depth_0361  \n",
              "70681  calf_id_1599_20220207_408_depth_0383  \n",
              "70682  calf_id_1599_20220207_408_depth_0390  \n",
              "70683  calf_id_1599_20220207_408_depth_0397  \n",
              "\n",
              "[70684 rows x 257 columns]"
            ]
          },
          "execution_count": 44,
          "metadata": {},
          "output_type": "execute_result"
        }
      ],
      "source": [
        "df"
      ]
    }
  ],
  "metadata": {
    "accelerator": "GPU",
    "colab": {
      "provenance": []
    },
    "kernelspec": {
      "display_name": "mae-cows",
      "language": "python",
      "name": "python3"
    },
    "language_info": {
      "codemirror_mode": {
        "name": "ipython",
        "version": 3
      },
      "file_extension": ".py",
      "mimetype": "text/x-python",
      "name": "python",
      "nbconvert_exporter": "python",
      "pygments_lexer": "ipython3",
      "version": "3.10.13"
    }
  },
  "nbformat": 4,
  "nbformat_minor": 0
}
